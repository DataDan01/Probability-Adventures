{
 "cells": [
  {
   "cell_type": "code",
   "execution_count": 1,
   "metadata": {},
   "outputs": [],
   "source": [
    "import math as m\n",
    "import numpy as np\n",
    "import random as rnd\n",
    "import re\n",
    "import itertools as it\n",
    "import pandas as pd\n",
    "import matplotlib as matplotlib\n",
    "import matplotlib.pyplot as plt\n",
    "from scipy.special import factorial2\n",
    "from scipy.special import factorial\n",
    "from scipy.special import gamma\n",
    "from scipy.special import binom\n",
    "import scipy.stats as sps\n",
    "import seaborn as sns\n",
    "%matplotlib inline"
   ]
  },
  {
   "cell_type": "markdown",
   "metadata": {},
   "source": [
    "# 8.1\n",
    "\n",
    "Let Z∼Beta(a,b).\n",
    "\n",
    "a. Find E(1/Z) using pattern integration.\n",
    "\n",
    "b. Find Var(1/Z) using pattern integration."
   ]
  },
  {
   "cell_type": "markdown",
   "metadata": {},
   "source": [
    "### 8.1 Analytical Solution \n",
    "\n",
    "Since this is a function over the Beta distribution, we can multiply 1/z by the PDF and integrate: \n",
    "\n",
    "## $\\int_{0}^1 \\frac{\\Gamma(a + b)}{\\Gamma(a)\\Gamma(b)} \\frac{1}{z} z^{a - 1}(1 - z)^{1 - b}dz = \\frac{\\Gamma(a + b)}{\\Gamma(a)\\Gamma(b)} \\int_{0}^1 z^{a - 2}(1 - z)^{1 - b}dz$ \n",
    "\n",
    "This looks really similar to the CDF of a Beta(a-1,b) random variable. We just need to multiply in the normalizing constant to make this a proper CDF. \n",
    "\n",
    "## $\\frac{\\Gamma(a + b)}{\\Gamma(a)\\Gamma(b)} \\frac{\\Gamma(a - 1)\\Gamma(b)}{\\Gamma(a - 1 + b)} \\int_{0}^1 \\frac{\\Gamma(a - 1 + b)}{\\Gamma(a - 1)\\Gamma(b)}z^{a - 2}(1 - z)^{1 - b}dz = \\frac{\\Gamma(a + b)}{\\Gamma(a)\\Gamma(b)} \\frac{\\Gamma(a - 1)\\Gamma(b)}{\\Gamma(a - 1 + b)}$ \n",
    "\n",
    "We can further simplify this using the fact that $\\Gamma(n+1)/\\Gamma(n) = n.$ \n",
    "\n",
    "## $E[1/z] = \\frac{a + b - 1}{a - 1}$ \n",
    "\n",
    "Similarly, for the $E[1/z^2]$ portion of Var(1/z), the integral looks like a Beta(a-2,b) variable. \n",
    "\n",
    "## $\\int_0^1 \\frac{1}{z^2} \\frac{\\Gamma(a + b)}{\\Gamma(a)\\Gamma(b)}z^{a - 1}(1 - z)^{b - 1} = \\int_0^1 \\frac{\\Gamma(a + b)}{\\Gamma(a)\\Gamma(b)}z^{a - 3}(1 - z)^{b - 1} = $ \n",
    "\n",
    "## $\\frac{\\Gamma(a + b)}{\\Gamma(a)\\Gamma(b)} \\frac{\\Gamma(a - 2)\\Gamma(b)}{\\Gamma(a - 2 + b)} \\int_{0}^1 \\frac{\\Gamma(a - 2 + b)}{\\Gamma(a - 2)\\Gamma(b)}z^{a - 3}(1 - z)^{1 - b}dz = \\frac{\\Gamma(a + b)}{\\Gamma(a)\\Gamma(b)} \\frac{\\Gamma(a - 2)\\Gamma(b)}{\\Gamma(a - 2 + b)} = \\frac{(a + b - 2)(a + b -1)}{(a - 2)(a - 1)}$ \n",
    "\n",
    "## $Var(1/z^2) = E[1/z^2] - E[1/z]^2 = \\frac{(a + b - 2)(a + b -1)}{(a - 2)(a - 1)} - (\\frac{a + b - 1}{a - 1})^2 = \\frac{b(a + b -1)}{(a - 2)(a - 1)^2}$ "
   ]
  },
  {
   "cell_type": "code",
   "execution_count": 2,
   "metadata": {},
   "outputs": [
    {
     "name": "stdout",
     "output_type": "stream",
     "text": [
      "Simulated E[1/z]: 1.50 | Analytical E[1/z]: 1.50\n",
      "Simulated Var[1/z]: 0.25 | Analytical Var[1/z]: 0.25\n"
     ]
    }
   ],
   "source": [
    "samps = 10000\n",
    "a = 5\n",
    "b = 2\n",
    "\n",
    "beta_samps = np.random.beta(a = a, b = b, size = samps)\n",
    "\n",
    "print('Simulated E[1/z]: %.2f | Analytical E[1/z]: %.2f' % (np.mean(1/beta_samps), (a+b-1)/(a-1)))\n",
    "print('Simulated Var[1/z]: %.2f | Analytical Var[1/z]: %.2f' % (np.var(1/beta_samps), b*(a+b-1)/((a-2)*(a-1)**2)))"
   ]
  },
  {
   "cell_type": "markdown",
   "metadata": {},
   "source": [
    "# 8.2\n",
    "\n",
    "a. Let U∼Unif(0,1), B∼Beta(1,1), E∼Expo(10) and G∼Gamma(1,10) (all are independent). Find E(U−B+E−G) without using any calculations (just facts about each distribution)\n",
    "\n",
    "b. For what value of n is $\\frac{ \\Big(\\frac{\\Gamma(n+1)}{\\Gamma(n)}\\Big)^2}{4}$ the PDF of a Standard Uniform?"
   ]
  },
  {
   "cell_type": "markdown",
   "metadata": {},
   "source": [
    "### 8.2 Analytical Solution\n",
    "\n",
    "a. We can expand this using the linearity of expectation: $E(U) - E(B) + E(E) - E(G)$.\n",
    "\n",
    "Since the Beta and Uniform are symmetrical within [0,1], the means must both be 1/2. A Gamma distribution is a sum of k i.i.d Exponentials. Since k is 1 in this case, Gamma(1,10) = Expo(10). These must also cancel out. This leaves us with: $(0.5 - 0.5 + 1/\\lambda - 1/\\lambda)$ = 0.\n",
    "\n",
    "b. The PDF of a standard uniform is just 1, which means we're solving:\n",
    "\n",
    "## $\\frac{ \\Big(\\frac{\\Gamma(n+1)}{\\Gamma(n)}\\Big)^2}{4} = 1, (\\frac{n\\Gamma(n)}{\\Gamma(n)})^2 = 4, n^2 = 4, n = \\pm2$"
   ]
  },
  {
   "cell_type": "code",
   "execution_count": 3,
   "metadata": {},
   "outputs": [
    {
     "name": "stdout",
     "output_type": "stream",
     "text": [
      "Simulated E(U-B+E-G) 0.00\n"
     ]
    }
   ],
   "source": [
    "# Part (a)\n",
    "samps = 100000\n",
    "\n",
    "U = np.mean(np.random.uniform(size = samps))\n",
    "\n",
    "B = np.mean(np.random.beta(a = 1, b = 1, size = samps)) \n",
    "\n",
    "E = np.mean(np.random.exponential(scale = 1/10, size = samps))\n",
    "\n",
    "G = np.mean(np.random.gamma(shape = 1, scale = 1/10, size = samps))\n",
    "\n",
    "print('Simulated E(U-B+E-G) %.2f' % (U-B+E-G))"
   ]
  },
  {
   "cell_type": "markdown",
   "metadata": {},
   "source": [
    "# 8.3\n",
    "\n",
    "The New England Patriots, considered by many as the greatest dynasty in modern sports, won 5 Super Bowls (NFL Championships) and played in 2 more from 2001 to 2017. The previous two coaches for the Patriots have been Pete Carroll (1997 - 1999) and Bill Belichick (2000 -). Carroll’s overall regular season record with the Patriots was 27-21 (27 wins and 21 losses), and Belichick’s current regular season record (at the time of this publication) is 201-71. Since both coached the same team in a similar time period, it may be reasonable to isolate and compare their coaching abilities based on their results.\n",
    "\n",
    "Define pCarroll as the true probability that Pete Carroll will win a game that he coaches. Consider a Bayesian approach where we assign a random distribution to this parameter: a reasonable (uninformative) distribution would be pCarroll∼Beta(1,1). Based on Beta-Binomial conjugacy (where each game is treated as a Bernoulli trial with pCarroll probability of success), the posterior distribution of pCarroll after observing his regular season record is pCarroll∼Beta(1+27,1+21).\n",
    "\n",
    "a. Consider pBelichick, the true probability that Bill Belichick will win a game that he coaches. First, if we assume that pBelichick follows the same distribution as pCarroll, find the probability of observing Belichick’s 201-71 record, or better.\n",
    "\n",
    "b. By employing a similar approach to assign a distribution to pBelichick\n",
    "as we did with pCarroll, compare E(pBelichick) and Var(pBelichick) with E(pCarroll) and Var(pCarroll).\n",
    "\n",
    "c. If we assume that pCarroll follows the same distribution as pBelicik that we solved for in (b), find the probability of observing Carroll’s record of 27-21, or worse. Compare this to your answer to (a)."
   ]
  },
  {
   "cell_type": "code",
   "execution_count": 4,
   "metadata": {},
   "outputs": [
    {
     "name": "stdout",
     "output_type": "stream",
     "text": [
      "Prob Belichick under Carroll dist (or better): 0.34%\n",
      "E[pBelichick]: 0.7372 | E[pCarroll]: 0.5600\n",
      "Var[pBelichick]: 0.0007 | Var[pCarroll]: 0.0048\n",
      "Prob Carroll under Belichick dist (or worse): 0.000000096%\n"
     ]
    }
   ],
   "source": [
    "## Analytical Solution\n",
    "\n",
    "# (a)\n",
    "\n",
    "print('Prob Belichick under Carroll dist (or better): %.2f%%' % \n",
    "      (100*(1 - sps.beta.cdf(x = 201/(201+71), a = 1+27, b = 1+21))))\n",
    "\n",
    "# (b)\n",
    "\n",
    "def beta_var(a,b):\n",
    "    \n",
    "    return (a*b)/((a+b)**2 * (a+b+1))\n",
    "\n",
    "print('E[pBelichick]: %.4f | E[pCarroll]: %.4f' % ((201+1)/(201+71+2), (27+1)/(27+21+2)))\n",
    "print('Var[pBelichick]: %.4f | Var[pCarroll]: %.4f' % (beta_var(a=201+1,b=71+1),beta_var(a=27+1,b=21+1)))\n",
    "\n",
    "\n",
    "# (c) Variance around Belichick much tighter due to larger sample size\n",
    "\n",
    "print('Prob Carroll under Belichick dist (or worse): %.9f%%' % \n",
    "      (100*(sps.beta.cdf(x = 27/(27+21), a = 1+201, b = 1+71))))"
   ]
  },
  {
   "cell_type": "markdown",
   "metadata": {},
   "source": [
    "# 8.4\n",
    "\n",
    "Solve the integral: \n",
    "\n",
    "## $\\int_{0}^1 \\sqrt{x - x^2} dx$\n",
    "\n",
    "You may leave your answer in terms of the Γ function.\n",
    "\n",
    "Hint: Try factoring the integrand into two different terms (both square roots) and then using Pattern Integration."
   ]
  },
  {
   "cell_type": "markdown",
   "metadata": {},
   "source": [
    "### 8.4 Analytical Solution\n",
    "\n",
    "Rearranging a bit makes this look like a Beta(3/2,3/2) integral. We just need to fix the constant.\n",
    "\n",
    "## $\\int_{0}^1 \\sqrt{x - x^2} dx = \\int_{0}^1 \\sqrt{x(1 - x)} dx = \\int_{0}^1 x^{1/2} (1-x)^{1/2} dx$\n",
    "\n",
    "## $\\frac{\\Gamma(3/2)\\Gamma(3/2)}{\\Gamma(3/2 + 3/2)} \\frac{\\Gamma(3/2 + 3/2)}{\\Gamma(3/2)\\Gamma(3/2)} \\int_{0}^1 x^{1/2} (1-x)^{1/2} dx = \\frac{\\Gamma(3/2)\\Gamma(3/2)}{\\Gamma(3/2 + 3/2)} = \\frac{\\pi}{8}$"
   ]
  },
  {
   "cell_type": "markdown",
   "metadata": {},
   "source": [
    "# 8.5\n",
    "\n",
    "Let X∼Gamma(a,λ). Find an expression for the kth moment of X using pattern recognition integration, and use this expression to find E(X) and Var(X)."
   ]
  },
  {
   "cell_type": "markdown",
   "metadata": {},
   "source": [
    "## $E(X^k) = \\int_{0}^{\\infty} \\frac{\\lambda^a}{\\Gamma(a)} x^k x^{a-1} e^{-\\lambda x} dx= \\frac{\\lambda^a}{\\Gamma(a)}  \\int_{0}^{\\infty} x^{a+k-1} e^{-\\lambda x} dx$\n",
    "\n",
    "This looks like the CDF Gamma(a+k,λ) without the normalizing constant. Which means the expectation must be the reciprocal of the constant:\n",
    "\n",
    "## $E(X^k) = \\frac{\\lambda^a\\Gamma(a+k)}{\\lambda^{a+k}\\Gamma(a)} = \\frac{\\Gamma(a+k)}{\\lambda^{k}\\Gamma(a)}, E(X) = \\frac{\\Gamma(a+1)}{\\lambda\\Gamma(a)} = \\frac{a\\Gamma(a)}{\\lambda\\Gamma(a)} = \\frac{a}{\\lambda}$\n",
    "\n",
    "## $Var(x) = E(x^2) = E(x)^2$\n",
    "\n",
    "## $E(x^2) = \\frac{\\Gamma(a + 2)}{\\Gamma(a)\\lambda^2} = \\frac{(a+1)a\\Gamma(a)}{\\lambda^2\\Gamma(a)} = \\frac{a^2 + a}{\\lambda^2}$\n",
    "\n",
    "## $Var(x) = \\frac{a^2 + a}{\\lambda^2} - \\frac{a^2}{\\lambda^2} = \\frac{a}{\\lambda^2}$"
   ]
  },
  {
   "cell_type": "code",
   "execution_count": 5,
   "metadata": {
    "scrolled": true
   },
   "outputs": [
    {
     "data": {
      "image/png": "[encoded data removed]",
      "text/plain": [
       "<Figure size 432x288 with 1 Axes>"
      ]
     },
     "metadata": {
      "needs_background": "light"
     },
     "output_type": "display_data"
    }
   ],
   "source": [
    "samps = 100000\n",
    "a = 3\n",
    "lamb = 4\n",
    "\n",
    "def sample_moment(x,k):\n",
    "    return 1/x.size * np.sum(x**k)\n",
    "\n",
    "def analyt_moment(a,lamb,k):\n",
    "    return gamma(a+k)/(gamma(a)*lamb**k)\n",
    "\n",
    "gamma_samps = np.random.gamma(shape = a, scale = 1/lamb, size = samps)\n",
    "\n",
    "moments = np.arange(1,8)\n",
    "\n",
    "probs = pd.DataFrame({\n",
    "    'Moment': moments,\n",
    "    'SampMom': [sample_moment(gamma_samps,k=k) for k in moments],\n",
    "    'AnaltMom': [analyt_moment(a=a,lamb=lamb,k=k) for k in moments]\n",
    "})\n",
    "\n",
    "\n",
    "_ = plt.plot(probs['Moment'],\n",
    "             probs['SampMom'], \n",
    "             'ro')\n",
    "\n",
    "_ = plt.plot(probs['Moment'],\n",
    "            probs['AnaltMom'],\n",
    "            'go--',\n",
    "            linewidth = 2)\n",
    "\n",
    "_ = plt.ylabel('Moment Value')\n",
    "_ = plt.xlabel('Moment Index')\n",
    "\n",
    "_ = plt.title('Analytical and Simulated Moments\\nGreen: Analytical || Red: Estimated')"
   ]
  },
  {
   "cell_type": "markdown",
   "metadata": {},
   "source": [
    "# 8.6\n",
    "\n",
    "Let X∼Pois(λ), where λ is unknown. We put a Gamma prior on λ such that λ∼Gamma(a,b). Find λ|X, the posterior distribution of λ."
   ]
  },
  {
   "cell_type": "markdown",
   "metadata": {},
   "source": [
    "### 8.6 Analytical Solution\n",
    "\n",
    "We can use Baye's rule to find the posterior. We can also ignore any constants and look for the 'meaty' part of any PDF we recognize. We can do this since the constants must always simplify to match up with the 'meaty' part of the PDF to form the full proper posterior PDF.\n",
    "\n",
    "## $f(\\lambda |  X = x) \\propto P(X = x|\\lambda), f(\\lambda) = \\frac{e^{-\\lambda} \\lambda^x}{x!} \\cdot \\frac{1}{\\Gamma(a)} b^a \\lambda^{a - 1} e^{-\\lambda b} \\propto e^{-\\lambda(1 + b)} \\lambda^{a + x - 1}$\n",
    "\n",
    "That looks like a $Gamma(x + a, 1 + b)$ variable. Since the prior and posterior are both gamma, this is an example of *conjugacy*."
   ]
  },
  {
   "cell_type": "code",
   "execution_count": 6,
   "metadata": {},
   "outputs": [
    {
     "data": {
      "image/png": "[encoded data removed]",
      "text/plain": [
       "<Figure size 432x288 with 1 Axes>"
      ]
     },
     "metadata": {
      "needs_background": "light"
     },
     "output_type": "display_data"
    }
   ],
   "source": [
    "samps = 100000\n",
    "\n",
    "a = 3\n",
    "b = 2\n",
    "x = 2\n",
    "\n",
    "gamma_samps = np.random.gamma(shape = a, scale = 1/b, size = samps)\n",
    "pois_samps = np.random.poisson(lam = gamma_samps, size = samps)\n",
    "\n",
    "gamma_anlt =  np.random.gamma(shape = a+x, \n",
    "                             scale = 1/(b+1), \n",
    "                             size = samps)\n",
    "\n",
    "_= sns.distplot(gamma_samps[pois_samps == x], hist = False)\n",
    "_= sns.distplot(gamma_anlt, hist = False)\n",
    "_ = plt.title('Posterior Samples (blue) and Gamma(x+a,1+b) (orange)')"
   ]
  },
  {
   "cell_type": "markdown",
   "metadata": {},
   "source": [
    "# 8.7\n",
    "\n",
    "Let X∼Beta(a,b) and Y=cX for some constant c.\n",
    "\n",
    "a. Find f(y).  \n",
    "b. Does Y have a Beta distribution?"
   ]
  },
  {
   "cell_type": "markdown",
   "metadata": {},
   "source": [
    "### 8.7 Analytical Solution\n",
    "\n",
    "We can use the transformation theorem, since this is a function on X. \n",
    "\n",
    "(a)  \n",
    "\n",
    "## $Y = cX, X = \\frac{Y}{c}, \\frac{dx}{dy} = \\frac{1}{c}$\n",
    "\n",
    "## $f(y) = f(x) |\\frac{dx}{dy}| = \\frac{\\Gamma(a + b)}{\\Gamma(a)\\Gamma(b)}(\\frac{y}{c})^{a - 1}(1 - \\frac{y}{c})^{b - 1} \\frac{1}{c}$\n",
    "\n",
    "(b)\n",
    "\n",
    "Since the Beta's support lies on [0,1], multiplying the density by c scales it to [0,c]. This breaks the support of the traditional Beta. This is a different distribution."
   ]
  },
  {
   "cell_type": "code",
   "execution_count": 7,
   "metadata": {},
   "outputs": [
    {
     "data": {
      "image/png": "[encoded data removed]",
      "text/plain": [
       "<Figure size 432x288 with 1 Axes>"
      ]
     },
     "metadata": {
      "needs_background": "light"
     },
     "output_type": "display_data"
    }
   ],
   "source": [
    "samps = 10000\n",
    "\n",
    "a = 12\n",
    "b = 7\n",
    "c = 3\n",
    "\n",
    "beta_samps = np.random.beta(a = a, b = b, size = samps)\n",
    "\n",
    "_= sns.distplot(beta_samps, hist = False)\n",
    "_= sns.distplot(c*beta_samps, hist = False)\n",
    "_ = plt.title('Beta (blue) and c*Beta (orange)')"
   ]
  },
  {
   "cell_type": "markdown",
   "metadata": {},
   "source": [
    "# 8.8\n",
    "\n",
    "Let a,b and m be positive integers such that a + b > m. Find:  \n",
    "\n",
    "## $\\sum_{x = 0}^m {a \\choose x}{b \\choose m - x}$"
   ]
  },
  {
   "cell_type": "markdown",
   "metadata": {},
   "source": [
    "### 8.8 Analytical Solution\n",
    "\n",
    "This looks like a Hypergeometric distribution without the normalizing constant:\n",
    "\n",
    "## ${a + b \\choose m} \\sum_{x = 0}^m \\frac{{a \\choose x}{b \\choose m - x}}{{a + b \\choose m}} = \\sum_{x = 0}^m {a \\choose x}{b \\choose m - x} = {a + b \\choose m}$"
   ]
  },
  {
   "cell_type": "code",
   "execution_count": 8,
   "metadata": {},
   "outputs": [
    {
     "name": "stdout",
     "output_type": "stream",
     "text": [
      "Full sum: 6435\n",
      "Norm Const: 6435\n"
     ]
    }
   ],
   "source": [
    "a = 3\n",
    "b = 12\n",
    "m = 7\n",
    "\n",
    "print('Full sum: %s' % \n",
    "         int(np.sum([binom(a,x) * binom(b,m-x) for x in range(m+1)]))\n",
    "     )\n",
    "\n",
    "print('Norm Const: %s' % \n",
    "         int(binom(a+b,m))\n",
    "     )"
   ]
  },
  {
   "cell_type": "markdown",
   "metadata": {},
   "source": [
    "# 8.9\n",
    "\n",
    "Solve the integral:  \n",
    "\n",
    "## $\\int_{0}^1 \\int_{0}^1 (xy)^{a - 1} \\big((1 - x)(1 - y)\\big)^{b - 1} dx dy$"
   ]
  },
  {
   "cell_type": "markdown",
   "metadata": {},
   "source": [
    "### 8.9 Analytical Solution\n",
    "\n",
    "First, let's separate out x and y in the integral:  \n",
    "\n",
    "## $\\int_{0}^1 \\int_{0}^1 x^{a - 1} (1 - x)^{b - 1} y^{a - 1} (1 - y)^{b - 1}dx dy$\n",
    "\n",
    "This looks like the 'meaty' part of the Beta PDF, twice. Since x/y are independent and the support matches, it looks like we're just missing the normalizing constant. Multiplying in the normalizing constant *twice* will gives us two Beta integrals, which become one. That leaves us with:  \n",
    "\n",
    "## $\\Big(\\frac{\\Gamma(a)\\Gamma(b)}{\\Gamma(a + b)}\\Big)^2\\int_{0}^1 \\int_{0}^1 \\frac{\\Gamma(a + b)}{\\Gamma(a)\\Gamma(b)}x^{a - 1} (1 - x)^{b - 1} \\frac{\\Gamma(a + b)}{\\Gamma(a)\\Gamma(b)}y^{a - 1} (1 - y)^{b - 1}dx dy$\n",
    "\n",
    "## $ = \\Big(\\frac{\\Gamma(a)\\Gamma(b)}{\\Gamma(a + b)}\\Big)^2$"
   ]
  },
  {
   "cell_type": "markdown",
   "metadata": {},
   "source": [
    "# 8.10\n",
    "\n",
    "Let c be a constant and X be a random variable. For the following distributions of X, see if Y=X+c has the same distribution as X (not the same parameters, but the same distribution).\n",
    "\n",
    "a. X∼Unif(0,1)  \n",
    "b. X∼Beta(a,b)  \n",
    "c. X∼Expo(λ)  \n",
    "d. X∼Bin(n,p)  \n",
    "e. X∼Pois(λ)  "
   ]
  },
  {
   "cell_type": "markdown",
   "metadata": {},
   "source": [
    "### 8.10 Analytical Solution\n",
    "\n",
    "The Uniform is the only distribution above with a flexible support, based on parameters a and b. Every other distribution gets its support broken above with the addition of a constant. For the Uniform distribution:  \n",
    "\n",
    "## $Y = X + c, X = Y - c, \\frac{dx}{dy} = 1, f(x) = 1$\n",
    "\n",
    "## $f(y) = f(x)|\\frac{dx}{dy}|,  f(y) = 1, Y \\sim Unif(c, c + 1)$"
   ]
  },
  {
   "cell_type": "markdown",
   "metadata": {},
   "source": [
    "# 8.11\n",
    "\n",
    "Brandon is doing his homework, but he is notorious for taking frequent breaks. The breaks he takes over the next hour follow a Poisson process with rate λ. Given that he takes less than 3 breaks overall, what is the probability that he takes a break in the first half hour? Your answer should only include λ (and constants).\n",
    "\n",
    "Hint: conditioned on the number of arrivals, the arrival times of a Poisson process are uniformly distributed."
   ]
  },
  {
   "cell_type": "markdown",
   "metadata": {},
   "source": [
    "### 8.11 Analytical Solution \n",
    "\n",
    "Since we know that the distribution of breaks is Poisson *and* that he takes fewer than 3, we must normalize those probabilities so they sum to 1 again. \n",
    "\n",
    "### $P(X = 0) = \\frac{e^{-\\lambda}}{e^{-\\lambda} + \\lambda e^{-\\lambda} + \\lambda^2 e^{\\lambda}/2}, P(X = 1) = \\frac{\\lambda e^{-\\lambda}}{e^{-\\lambda} + \\lambda e^{-\\lambda} + \\lambda^2 e^{\\lambda}/2}, P(X = 2) = \\frac{\\lambda^2 e^{\\lambda}/2}{e^{-\\lambda} + \\lambda e^{-\\lambda} + \\lambda^2 e^{\\lambda}/2}$   \n",
    "\n",
    "Since the arrival times of a Poisson process are uniformly distributed:   \n",
    "* If there are no breaks, there's no chance of a break in the first half hour \n",
    "* If there is one break, there's 1/2 chance of a break in the first half hour \n",
    "* If there are two breaks, there's a 3/4 chance of a break in the first half hour \n",
    "\n",
    "That last part comes from the fact that the minimum of two standard Uniform distributions has CDF:   \n",
    "\n",
    "## $P(X < x) = 1 - F(x)^2 = 1 - \\frac{1}{2}^2 = \\frac{3}{4}$ \n",
    "\n",
    "The problem asked for the probability of at least one break within the first half hour. That means that for the two Uniformly distributed draws, at least one of them must be within the first half hour. \n",
    "\n",
    "To arrive at the solution, we just weigh the outcomes above by the probability mass of each break scenario:   \n",
    "\n",
    "## $P(A) = P(X = 1)/2 + 3P(X = 2)/4$ "
   ]
  },
  {
   "cell_type": "code",
   "execution_count": 9,
   "metadata": {},
   "outputs": [
    {
     "data": {
      "image/png": "[encoded data removed]",
      "text/plain": [
       "<Figure size 432x288 with 1 Axes>"
      ]
     },
     "metadata": {
      "needs_background": "light"
     },
     "output_type": "display_data"
    }
   ],
   "source": [
    "def sim_prob(lamb, samps):\n",
    "\n",
    "    # Simulating total number of breaks within 1 hour\n",
    "    breaks = np.random.poisson(lam = lamb, size = samps)\n",
    "\n",
    "    # Of the simulations with 1 break, how many of those occured within the first 30 mins\n",
    "    one_break = np.mean(np.random.uniform(size = np.sum(breaks == 1)) < 0.5)\n",
    "\n",
    "    # Of the simulations with 2 breaks, did any of them occur within the first 30 mins\n",
    "    two_breaks = np.mean(np.min(np.random.uniform(size = (np.sum(breaks == 2),2)),axis=1) < 0.5)\n",
    "\n",
    "    # Renormalizing Pois prob since we know < 3 obs\n",
    "    sim_prob = np.mean(breaks == 1)/np.mean(breaks < 3) * one_break + np.mean(breaks == 2)/np.mean(breaks < 3) * two_breaks\n",
    "    \n",
    "    return sim_prob\n",
    "\n",
    "def analt_prob(lamb):\n",
    "    \n",
    "    return ((lamb/2 * np.exp(-lamb)) + ((3/4)*lamb**2/2 * np.exp(-lamb)))/sps.poisson.cdf(k = 2, mu = lamb)\n",
    "\n",
    "##\n",
    "\n",
    "lambs = np.arange(1,8)\n",
    "\n",
    "probs = pd.DataFrame({\n",
    "    'Lambda': lambs,\n",
    "    'SimProb': [sim_prob(lamb = lamb, samps = 10000) for lamb in lambs],\n",
    "    'AnaltProb': [analt_prob(lamb = lamb) for lamb in lambs],\n",
    "})\n",
    "\n",
    "\n",
    "_ = plt.plot(probs['Lambda'],\n",
    "             probs['SimProb'], \n",
    "             'ro')\n",
    "\n",
    "_ = plt.plot(probs['Lambda'],\n",
    "            probs['AnaltProb'],\n",
    "            'go--',\n",
    "            linewidth = 2)\n",
    "\n",
    "_ = plt.ylabel('Prob')\n",
    "_ = plt.xlabel('Lambda')\n",
    "\n",
    "_ = plt.title('Analytical and Simulated Moments\\nGreen: Analytical || Red: Estimated')"
   ]
  },
  {
   "cell_type": "markdown",
   "metadata": {},
   "source": [
    "# 8.12\n",
    "\n",
    "You again find yourself in a diving competition; in this competition, you take 3 dives, and each is scored by a judge from 0 to 1 (1 being the best, 0 the worst). The scores are continuous (i.e., you could score a .314, etc.). The judge is completely hapless, meaning that the scores are completely random and independent. On average, what will your highest score be? On average, what will your lowest score be?"
   ]
  },
  {
   "cell_type": "markdown",
   "metadata": {},
   "source": [
    "### 8.12 Analytical Probability\n",
    "\n",
    "We know that the Order Statistics of a Uniform are Beta such that $Beta(j, n-j+1)$. The mean of a Beta parameterized like this is: $\\frac{j}{j+n-j+1} = \\frac{j}{n+1}$. The 3rd order statistic represents the maximum and the 1st represents the minimum:\n",
    "\n",
    "## $\\text{E[highest score]} = \\frac{j}{n+1} = \\frac{3}{3+1} = \\frac{3}{4}$\n",
    "\n",
    "## $\\text{E[lowest score]} = \\frac{j}{n+1} = \\frac{1}{3+1} = \\frac{1}{4}$"
   ]
  },
  {
   "cell_type": "code",
   "execution_count": 10,
   "metadata": {},
   "outputs": [
    {
     "name": "stdout",
     "output_type": "stream",
     "text": [
      "E[highest score]: 0.75\n",
      "E[lowest score]: 0.25\n"
     ]
    }
   ],
   "source": [
    "samps = 10000\n",
    "\n",
    "unifs = np.random.uniform(size = (samps,3))\n",
    "\n",
    "print('E[highest score]: %.2f' % np.mean(np.max(unifs,axis=1)))\n",
    "print('E[lowest score]: %.2f' % np.mean(np.min(unifs,axis=1)))"
   ]
  },
  {
   "cell_type": "markdown",
   "metadata": {},
   "source": [
    "# 8.13\n",
    "\n",
    "Imagine a flat, 2-D circle on which n>1 blobs are randomly (uniformly) placed along the outside of the circle. All of the blobs travels in the clockwise direction, and each blob is assigned independently assigned a speed from draws of a Unif(0,1) distributions (the higher the draw, the faster the speed).\n",
    "\n",
    "If a blob ‘catches’ up to a slower blob in front of it, the fast blob ‘eats’ the slow bob. The fast blob does not change size (size is irrelevant in this structure anyways) but it now travels slower: specifically, it takes the speed of the slower blob that it just ate.\n",
    "\n",
    "Imagine letting this system run forever. Let X be the random variable that represents the average speed of all surviving blobs (note that this random variable is an average, not necessarily a single point). Find E(X)."
   ]
  },
  {
   "cell_type": "markdown",
   "metadata": {},
   "source": [
    "### 8.13 Analytical Solution\n",
    "\n",
    "Over the very long term, every slow blob will eventually be eaten by a faster one. Since the fastest blob eventually travels at the slowest blob's speed, we need to find the expected speed of the slowest blob. This is just the mean of the first order statistic of a collection of standard Uniform distributions: $\\frac{1}{n+1}$."
   ]
  },
  {
   "cell_type": "markdown",
   "metadata": {},
   "source": [
    "# 8.14\n",
    "\n",
    "Imagine a subway station where trains arrive according to a Poisson Process with rate parameter λ1. Independently, customers arrive to the station according to a Poisson Process with rate parameter λ2. Each time that a train arrives, it picks up all of the customers at the station and departs.\n",
    "\n",
    "If you arrive at the station and see 5 customers there (i.e., 5 customers have arrived since the last train departed) how long should you expect to wait for the next train?"
   ]
  },
  {
   "cell_type": "markdown",
   "metadata": {},
   "source": [
    "### 8.14 Analytical Solution \n",
    "\n",
    "The waiting times between arrivals in a Poisson Process are exponentially distributed. Since the exponential distribution is memoryless, it doesn't matter how long you've been waiting for a train to arrive. The time until the next trail arrival is still distributed Expo(λ1). \n",
    "\n",
    "We could estimate how long we've been waiting already because we see 5 customers on the subway tracks. However, this isn't what the problem is asking for. "
   ]
  }
 ],
 "metadata": {
  "kernelspec": {
   "display_name": "Python 3",
   "language": "python",
   "name": "python3"
  },
  "language_info": {
   "codemirror_mode": {
    "name": "ipython",
    "version": 3
   },
   "file_extension": ".py",
   "mimetype": "text/x-python",
   "name": "python",
   "nbconvert_exporter": "python",
   "pygments_lexer": "ipython3",
   "version": "3.7.2"
  }
 },
 "nbformat": 4,
 "nbformat_minor": 2
}
