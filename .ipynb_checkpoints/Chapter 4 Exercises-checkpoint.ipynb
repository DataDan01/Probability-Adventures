{
 "cells": [
  {
   "cell_type": "code",
   "execution_count": 1,
   "metadata": {},
   "outputs": [],
   "source": [
    "import math as m\n",
    "import numpy as np\n",
    "import random as rnd\n",
    "import re\n",
    "import itertools as it\n",
    "import pandas as pd\n",
    "import matplotlib.pyplot as plt\n",
    "from scipy.special import factorial2\n",
    "from scipy.special import factorial\n",
    "from scipy.special import binom\n",
    "import scipy.stats as sps\n",
    "%matplotlib inline"
   ]
  },
  {
   "cell_type": "markdown",
   "metadata": {},
   "source": [
    "# 4.1\n",
    "\n",
    "Fantasy Sports (especially Fantasy Football) are extremely popular in the United States. Essentially, ‘owners’ (regular citizens) compete by picking the football players that they think will perform the best in a specific set of real-life games. Each football player is assigned a numerical score based on their real-life performance (higher score is better), and the ‘owner’ that scores the most points in aggregate (the sum of all of the football players they picked, or their ‘lineup’) wins.\n",
    "\n",
    "Imagine that you need to fill two more spots on your ‘lineup’ (pick two more players) and you have two options: you could select Tom Brady (widely considered the greatest player of all time) and Jimmy Graham, or Eli Manning and Rob Gronkowski. By considering historical data, you can reasonably approximate the ‘fantasy points’ that each player will indepedently score: T∼N(27,4), J∼N(3,1), E∼N(11,2), R∼N(18,5), where T stands for Tom Brady’s score, etc. (the independence condition is often unrealistic, especially here because Brady and Gronkowski are on the same team, but we will assume independence here). Which option (Brady and Graham, or Manning and Gronkowski) is more likely to score more points? Find the probability of this option scoring more than the other option; you can leave your answer in terms of Φ."
   ]
  },
  {
   "cell_type": "code",
   "execution_count": 2,
   "metadata": {},
   "outputs": [
    {
     "name": "stdout",
     "output_type": "stream",
     "text": [
      "P([T+J] > [E+N]) simulated 61.42%\n",
      "P([T+J] > [E+N]) analytical 61.36%\n"
     ]
    }
   ],
   "source": [
    "# Generating random scores\n",
    "samps = 10000\n",
    "\n",
    "T = np.random.normal(loc = 27, scale = np.sqrt(4), size = samps)\n",
    "J = np.random.normal(loc = 3, scale = np.sqrt(1), size = samps)\n",
    "E = np.random.normal(loc = 11, scale = np.sqrt(2), size = samps)\n",
    "N = np.random.normal(loc = 18, scale = np.sqrt(5), size = samps)\n",
    "\n",
    "#\n",
    "\n",
    "print('P([T+J] > [E+N]) simulated %.2f%%' % (100*np.mean((T + J) > (E + N))))\n",
    "\n",
    "#\n",
    "\n",
    "print('P([T+J] > [E+N]) analytical %.2f%%' % (100*(1 - sps.norm.cdf(x = 0, loc = 1, scale = np.sqrt(12)))))"
   ]
  },
  {
   "cell_type": "markdown",
   "metadata": {},
   "source": [
    "# 4.1 Analytical Solution\n",
    "\n",
    "Since the normal distribution is symmetrical, it has equal mass on both sides of the mean. Therefore, the probability that one normal is greater than another is a function of the locations of the means. Also, the sum of *independent* normals is itself normally distributed. So we can rephrase this problem as:  \n",
    "\n",
    "T + J ~ N(27,4) + N(3,1) = N(30,5)  \n",
    "E + N ~ N(11,2) + N(18,5) = N(29,7)\n",
    "\n",
    "$\\therefore$ N(30,5) > N(29,7)\n",
    "\n",
    "### $\\text{P([T+J] > [E+N]) = P(N(30,5) > N(29,7)) = P(N(1,12) > 0)} = $\n",
    "### $1 - \\phi(mean = 1, var = 12,x = 0) \\approx .61$\n",
    "\n",
    "So choosing Tom and Jimmy is better about 61% of the time."
   ]
  },
  {
   "cell_type": "markdown",
   "metadata": {},
   "source": [
    "# 4.2\n",
    "\n",
    "a. Is it possible to have two i.i.d. random variables X and Y such that P(X>Y)≠1/2?\n",
    "\n",
    "For the following parts, let X,Y be i.i.d. N(0,1).\n",
    "\n",
    "b. E(Φ(X))___Φ(E(X))\n",
    "\n",
    "c. P(X/Y<0)___P(|X−Y|2√<1)"
   ]
  },
  {
   "cell_type": "code",
   "execution_count": 3,
   "metadata": {},
   "outputs": [
    {
     "name": "stdout",
     "output_type": "stream",
     "text": [
      "P(X > Y) continuous example:\n",
      "0.5109\n",
      "\n",
      "P(X > Y) discrete example:\n",
      "0.3963\n",
      "\n",
      "\n",
      "E(Φ(X)) vs. Φ(E(X)):\n",
      "0.4951\n",
      "0.4927\n",
      "\n",
      "P(X/Y < 0) vs. P(|X−Y|/√2 < 1):\n",
      "0.4963\n",
      "0.6877\n"
     ]
    }
   ],
   "source": [
    "# a\n",
    "samps = 10000\n",
    "mean = 1\n",
    "sd = 3\n",
    "\n",
    "print('P(X > Y) continuous example:')\n",
    "print(np.mean(np.random.normal(loc = mean, scale = sd, size = samps) > np.random.normal(loc = mean, scale = sd, size = samps)))\n",
    "\n",
    "n = 10\n",
    "p = 0.7\n",
    "\n",
    "print('\\nP(X > Y) discrete example:')\n",
    "print(np.mean(np.random.binomial(n = n, p = p, size = samps) > np.random.binomial(n = n, p = p, size = samps)))\n",
    "\n",
    "# b\n",
    "X = np.random.normal(loc = 0, scale = 1, size = samps)\n",
    "Y = np.random.normal(loc = 0, scale = 1, size = samps)\n",
    "\n",
    "print('\\n\\nE(Φ(X)) vs. Φ(E(X)):')\n",
    "print(round(np.mean(sps.norm.cdf(x = X, loc = 0, scale = 1)),4))\n",
    "print(round(sps.norm.cdf(x = np.mean(X), loc = 0, scale = 1),4))\n",
    "\n",
    "# c\n",
    "print('\\nP(X/Y < 0) vs. P(|X−Y|/√2 < 1):')\n",
    "print(round(np.mean(X/Y < 0),4))\n",
    "print(round(np.mean(np.abs(X-Y)/np.sqrt(2) < 1),4))"
   ]
  },
  {
   "cell_type": "markdown",
   "metadata": {},
   "source": [
    "### 4.2 Analytical Solution\n",
    "\n",
    "a. In the continuous case, $P(X > Y) = P(X \\geq Y)$. For any two i.i.d. random variables, this should always be 1/2. There's no reason to believe one should be greater than the other, on average.  \n",
    "\n",
    "In the discrete case this is usually not true, because $P(X > Y) \\neq P(X \\geq Y)$. The probability of a tie, $P(X = Y)$, is usually nonzero - this breaks the 1/2 balance. There is a simulated example with binomial RVs above.  \n",
    "\n",
    "b. The left side becomes a Standard Uniform, by Universality. That gives a mean of 1/2. The right side becomes $\\phi(0)$, which is 1/2 for a Standard Normal. They are equivalent.  \n",
    "\n",
    "c. The ratio of two independent normals is [*not* normally distributed](https://en.wikipedia.org/wiki/Ratio_distribution#Gaussian_ratio_distribution) but it is symmetric around 0, since there's nothing to break the balance of mass. A symmetric distribution around 0 has 50% of its mass on either side. So the left is 0.5. \n",
    "  \n",
    "Let's focus on the right side now. The difference of two independent normals is itself normally distributed. In this case, it becomes $N(0,1) - N(0,1) = N(0,2)$. Scaling down by $\\sqrt{2}$, makes the difference a Standard Normal. Constricting the absolute value to be less than 1 means we want to capture probability mass within 1 standard deviation of the mean on either side. Using the 68-95-99.7 rule, we can see that this is $\\approx .68$, which is greater than the left side.  \n",
    "\n",
    "  \n",
    "To summarize:  \n",
    "b. $E(\\Phi(X)) = \\Phi(E(X))$  \n",
    "c. $P(X/Y < 0) \\leq P(\\frac{|X - Y|}{\\sqrt{2}} < 1)$\n"
   ]
  },
  {
   "cell_type": "markdown",
   "metadata": {},
   "source": [
    "# 4.3\n",
    "\n",
    "Imagine that you won in the first round of your diving competition, and now, in the next round, you perform only one dive. The scoring of your dive is as follows: you will be judged by three judges on a scale of 0 to 10 (10 being the best) and the maximum rating given by the three judges will be your score. Unlike the previous problem, ratings are given on a continuous scale; instead of just integers, a judge may give 3.14, for example.\n",
    "\n",
    "Unfortunately, the judges in this specific competition do not have an eye for the sport at all, and each one independently assigns you a random score between 0 and 10.\n",
    "\n",
    "a. What is the probability that the first judge gives you the highest score of the group?\n",
    "\n",
    "b. Let H be your competition score. Find E(H)."
   ]
  },
  {
   "cell_type": "code",
   "execution_count": 4,
   "metadata": {},
   "outputs": [
    {
     "name": "stdout",
     "output_type": "stream",
     "text": [
      "P(max = Judge 1):\n",
      "0.3316\n"
     ]
    },
    {
     "data": {
      "image/png": "[encoded data removed]",
      "text/plain": [
       "<Figure size 432x288 with 1 Axes>"
      ]
     },
     "metadata": {},
     "output_type": "display_data"
    }
   ],
   "source": [
    "samps = 10000\n",
    "\n",
    "# a \n",
    "print('P(max = Judge 1):')\n",
    "print(\n",
    "    np.mean(\n",
    "        np.random.uniform(low = 0, high = 10, size = samps) >=\n",
    "        np.maximum(np.random.uniform(low = 0, high = 10, size = samps),\n",
    "              np.random.uniform(low = 0, high = 10, size = samps))\n",
    "    )\n",
    ")\n",
    "\n",
    "# b\n",
    "d1 = np.random.uniform(low = 0, high = 10, size = samps)\n",
    "d2 = np.random.uniform(low = 0, high = 10, size = samps)\n",
    "d3 = np.random.uniform(low = 0, high = 10, size = samps)\n",
    "\n",
    "maxs = np.maximum.reduce([d1,d2,d3])\n",
    "\n",
    "#\n",
    "\n",
    "_ = plt.hist(maxs, density = True, align = 'left')\n",
    "_ = plt.ylabel('Probability')\n",
    "_ = plt.xlabel('Max Dive')\n",
    "_ = plt.axvline(x = np.mean(maxs), color = 'r', linestyle = '-')\n",
    "_ = plt.title('Probability Distribution Max Dive Score\\nMean of %.2f' % (np.mean(maxs)))"
   ]
  },
  {
   "cell_type": "markdown",
   "metadata": {},
   "source": [
    "### 4.3 Analytical Solution\n",
    "\n",
    "a. There's nothing differentiating or conditioning the random generation of dive scores amongst the three judges. By symmetry, each judge has a 1/3 probability of assigning the highest score.  \n",
    "\n",
    "b. The probability of the high score being less than some value $h$ can be summarized as:  \n",
    "\n",
    "### $P(H \\leq h) = P(Dive1 \\leq h) \\cap P(Dive2 \\leq h) \\cap P(Dive3 \\leq h) = h/10 * h/10 * h/10 = \\frac{h^3}{1000}$\n",
    "\n",
    "This gives us the CDF of $H$. To get to the PDF, we need to take the derivative:  \n",
    "\n",
    "### $f(h) = \\frac{3h^2}{1000}$  \n",
    "\n",
    "Next, to take the expectation we need to multiply by $h$ and take the integral:  \n",
    "\n",
    "### $\\int_{0}^{10} (h)\\frac{3h^2}{1000}dh = \\int_{0}^{10}\\frac{3h^3}{1000}dh  = \\Big|_{0}^{10} \\frac{3h^4}{4000} = 7.5$\n",
    "\n",
    "This matches our simulated answer above. Something important to note is that we can multiply the CDFs in the first part of this computation *only* because they're independent. Breaking this independence will give a different solution."
   ]
  },
  {
   "cell_type": "markdown",
   "metadata": {},
   "source": [
    "# 4.4\n",
    "\n",
    "a. Let X∼N(0,1). What is E($X^5$)?\n",
    "\n",
    "b. Let Y∼Pois(λ). Find E(c/(Y+1)) where c is a constant.\n",
    "\n",
    "c. Let Q be a Uniform Distribution such that Q∼Unif(0,4). Find Var(√Q).\n",
    "\n",
    "Hint: it may be easier to work in terms of the standard uniform, and the convert."
   ]
  },
  {
   "cell_type": "code",
   "execution_count": 5,
   "metadata": {},
   "outputs": [
    {
     "name": "stdout",
     "output_type": "stream",
     "text": [
      "E(X^5): 0.0026\n",
      "\n",
      "E[c/(Y + 1)]: 0.6092\n",
      "\n",
      "Var(√Q): 0.2222\n"
     ]
    }
   ],
   "source": [
    "samps = 100000\n",
    "\n",
    "# a\n",
    "X = np.random.normal(loc = 0, scale = 1, size = samps)\n",
    "\n",
    "print('E(X^5): %.4f' % np.mean(X**5))\n",
    "\n",
    "# b\n",
    "lam = 3.14\n",
    "c = 2\n",
    "\n",
    "Y = np.random.poisson(lam = lam, size = samps)\n",
    "\n",
    "print('\\nE[c/(Y + 1)]: %.4f' % np.mean(c/(Y + 1)))\n",
    "\n",
    "# c\n",
    "low = 0\n",
    "high = 4\n",
    "\n",
    "Q = np.random.uniform(low = low, high = high, size = samps)\n",
    "\n",
    "print('\\nVar(√Q): %.4f' % np.var(np.sqrt(Q)))"
   ]
  },
  {
   "cell_type": "markdown",
   "metadata": {},
   "source": [
    "### 4.4 Analytical Solution\n",
    "\n",
    "a. Similar to 4.2.c, we have a situation where the symmetry of the normal is not broken. Raising a normal to the power 5 should squeeze values under 1 and stretches values over 1. This doesn't affect the balance of mass around 0. Therefore, the mean should be 0.  \n",
    "\n",
    "b. Since the Poisson is a discrete distribution, we need to apply the transformation for this problem on the PMF discretely:  \n",
    "\n",
    "## $E(\\frac{c}{Y + 1}) = \\sum_{k=0}^{\\infty}(\\frac{c}{k + 1})(\\frac{\\lambda^k}{k!e^\\lambda})$  \n",
    "\n",
    "We can move the constants $e^\\lambda$ and $c$ out of the summation. We can also increment the $k!$ by combining it with the $(k+1)$:\n",
    "\n",
    "## $\\frac{c}{e^\\lambda} \\sum_{k=0}^{\\infty}(\\frac{1}{k + 1})(\\frac{\\lambda^k}{k!}) = \\frac{c}{e^\\lambda} \\sum_{k=0}^{\\infty}\\frac{\\lambda^k}{(k+1)!}$\n",
    "\n",
    "This *almost* looks like the Taylor Series for $e^x$ where $x = \\lambda$:\n",
    "\n",
    "### $e^{x} = \\sum^{\\infty}_{n=0} \\frac{x^n}{n!} = 1 + x + \\frac{x^2}{2!} + \\frac{x^3}{3!} + ...$\n",
    "\n",
    "We can multiply by $\\lambda/\\lambda$ to get closer to what we want:  \n",
    "\n",
    "### $\\frac{c}{\\lambda e^\\lambda} \\sum_{k=0}^{\\infty}\\frac{\\lambda^{k+1}}{(k+1)!}$\n",
    "\n",
    "The summation looks like it skips to the second term in the Taylor Series of $e^\\lambda$, so we need to subtract out the 1 that it misses:  \n",
    "\n",
    "### $E(\\frac{c}{Y+1}) = \\frac{c}{\\lambda e^\\lambda}(e^\\lambda - 1)$  \n",
    "\n",
    "c. We know that $Q = 4U$, where $U \\sim Unif(0,1)$. We also know that $\\sqrt{Q} = \\sqrt{4U} = 2\\sqrt{U}$ and therefore $Var(\\sqrt{Q}) = Var(2\\sqrt{U}) = 4Var(\\sqrt{U})$. So if we find $Var(\\sqrt{U})$, we just need to multiply by 4 to get our answer.  \n",
    "\n",
    "Next, we can use the definition of variance to simplify things a bit:  \n",
    "\n",
    "#### $Var(\\sqrt{U}) = E((\\sqrt{U})^2) - (E(\\sqrt{U}))^2 = Var(\\sqrt{U}) = E(U) - (E(\\sqrt{U}))^2$  \n",
    "\n",
    "The first part is easy, that's just 0.5. The second part requires a modification of the uniform CDF:  \n",
    "\n",
    "#### $E(\\sqrt{U}) = \\int_{0}^{1} f(u)\\sqrt{u} \\; du = \\int_{0}^{1}\\sqrt{u} \\; du = \\Big|_{0}^{1} \\frac{2}{3}u^\\frac{3}{2} = \\frac{2}{3}$\n",
    "\n",
    "Bringing it all together, we get:  \n",
    "\n",
    "#### $Var(\\sqrt{U}) = E(U) - (E(\\sqrt{U}))^2 = .5  - \\frac{2}{3}^2 = \\frac{1}{18}$\n",
    "\n",
    "#### $Var(\\sqrt{Q}) = 4Var(\\sqrt{U}) = \\frac{4}{18}$"
   ]
  },
  {
   "cell_type": "markdown",
   "metadata": {},
   "source": [
    "# 4.5\n",
    "\n",
    "Let H=1−U, where U is the Standard Uniform, and G follow a Gamma Distribution (which we will cover later) with parameters α and λ, PDF $f(g) = \\frac{\\lambda^\\alpha}{\\Gamma(\\alpha)}g^{\\alpha-1}e^{-g\\lambda}$ and CDF F(g). Find E(H−F(G))."
   ]
  },
  {
   "cell_type": "code",
   "execution_count": 6,
   "metadata": {},
   "outputs": [
    {
     "name": "stdout",
     "output_type": "stream",
     "text": [
      "E(H−F(G)) approx: -0.0027\n"
     ]
    }
   ],
   "source": [
    "samps = 10000\n",
    "\n",
    "#\n",
    "\n",
    "G = np.random.gamma(shape = 2, scale = 3, size = samps)\n",
    "H = 1 - np.random.uniform(low = 0, high = 1, size = samps)\n",
    "\n",
    "#\n",
    "\n",
    "print('E(H−F(G)) approx: %.4f' %\n",
    "    np.mean(\n",
    "        H - sps.gamma.cdf(x = G, a = 2, loc = 0, scale = 3)\n",
    "    )\n",
    ")"
   ]
  },
  {
   "cell_type": "markdown",
   "metadata": {},
   "source": [
    "### 4.5 Analytical Solution\n",
    "\n",
    "Plugging a random variable into its own CDF yields a Standard Uniform, this is by Universality. This reduces the expectation down to:  \n",
    "\n",
    "### $E(1 - U_1 - U_2) = E(1) - E(U_1) - E(U_2) = 1 - 0.5 - 0.5 = 0$\n",
    "\n",
    "This is by the linearity of expectation."
   ]
  },
  {
   "cell_type": "markdown",
   "metadata": {},
   "source": [
    "# 4.6\n",
    "\n",
    "Consider a ‘random cube’ generated with side length S∼Unif(0,10). Let V be the volume of the cube. Find E(V),Var(V) as well as the CDF and PDF of V."
   ]
  },
  {
   "cell_type": "code",
   "execution_count": 7,
   "metadata": {},
   "outputs": [
    {
     "data": {
      "image/png": "[encoded data removed]",
      "text/plain": [
       "<Figure size 432x288 with 1 Axes>"
      ]
     },
     "metadata": {},
     "output_type": "display_data"
    }
   ],
   "source": [
    "samps = 10000\n",
    "\n",
    "S = np.random.uniform(low = 0, high = 10, size = samps)\n",
    "V = S**3\n",
    "\n",
    "_ = plt.hist(V, density = True, align = 'left')\n",
    "_ = plt.ylabel('Probability')\n",
    "_ = plt.xlabel('Volume')\n",
    "_ = plt.axvline(x = np.mean(V), color = 'r', linestyle = '-')\n",
    "_ = plt.title('Distribution of Cube Volumes\\nMean (red): %.1f || Var: %.0f\\nGreen Line: Analytical Solution' % (np.mean(V),np.var(V)))\n",
    "\n",
    "# Analytical PDF, derived below\n",
    "\n",
    "def analt_prob(v):\n",
    "    return (1/(10**(1/3) * 30 * v**(2/3)))\n",
    "\n",
    "analt_prob = np.vectorize(analt_prob)\n",
    "\n",
    "#\n",
    "\n",
    "unif = np.sort(np.random.uniform(low = 0, high = 1000, size = 100000))\n",
    "\n",
    "_ = plt.plot(unif,\n",
    "            analt_prob(unif),\n",
    "            'go--',\n",
    "            linewidth = 2)\n",
    "\n",
    "axes = plt.gca()\n",
    "_ = axes.set_ylim([0,0.005])"
   ]
  },
  {
   "cell_type": "markdown",
   "metadata": {},
   "source": [
    "### 4.6 Analytical Solution\n",
    "\n",
    "Since we know that $V = S^3$, we can apply this transformation to the Uniform CDF and work backwards to get the expected value and variance:  \n",
    "\n",
    "### $E(V) = \\frac{1}{10}\\int_{0}^{10} s^3 ds = \\frac{s^4}{40} \\big|_{0}^{10} = \\frac{10,000}{40} = 250$  \n",
    "\n",
    "To get the variance we have to remember that $Var(V) = E(V^2) - (E(V))^2$. Now we need $E(V^2)$:\n",
    "\n",
    "### $E(V^2) = E[(S^3)^2] = E(S^6) = \\frac{1}{10}\\int_{0}^{10} s^6 ds = \\frac{s^7}{70} \\big|_{0}^{10} = \\frac{10,000,000}{70}$  \n",
    "\n",
    "Which gives us the following formula for variance:\n",
    "\n",
    "$Var(V) = E(V^2) - (E(V))^2 = \\frac{10,000,000}{70} - 250^2 \\approx 80,357$  \n",
    "\n",
    "We know that $V = S^3$ and therefore $V^{1/3} = S$. Using this, we can see that: $P(V \\leq v) = P(S^3 \\leq v) = P(S \\leq v^{1/3})$. We can apply this transformation to the Uniform CDF:\n",
    "\n",
    "### $P(S \\leq v^{1/3}) = \\frac{v^{1/3}}{10}$\n",
    "\n",
    "We can take the derivative of this to get the pseudo-PDF. We can then integrate to find out how much we have to adjust the pseudo-PDF by so that it integrates to 1.\n",
    "\n",
    "### $\\int_{0}^{10,000} \\frac{1}{30 * v^{2/3}}  = 10^{1/3}\\; dv$  \n",
    "\n",
    "So the PDF becomes:  \n",
    "\n",
    "## $f(v) = \\frac{1}{10^{1/3} * 30 * v^{2/3}}$  \n",
    "\n",
    "Only in the range [0,10000]. Otherwise 0.\n",
    "\n",
    "And the CDF becomes:\n",
    "\n",
    "## $P(V \\leq v) = \\frac{v^{1/3}}{10 * 10^{1/3}}$\n",
    "\n",
    "Only in the range [0,10000]. Otherwise 0 below and 1 above.\n",
    "\n",
    "To find the adjustment to the CDF/PDF we could have also solved for c where $\\frac{10000^{1/3}}{10} * c = 1$. That is, the CDF evaluated at the maximum of the support should be 1."
   ]
  },
  {
   "cell_type": "markdown",
   "metadata": {},
   "source": [
    "# 4.7\n",
    "\n",
    "Let X∼N(0,1). For what values of b does $E(e^{{x^b}/2})$ diverge?"
   ]
  },
  {
   "cell_type": "markdown",
   "metadata": {},
   "source": [
    "### 4.7 Analytical Solution\n",
    "\n",
    "By LoTUS:  \n",
    "\n",
    "## $E(e^{x^b/2}) = \\int_{-\\infty}^{\\infty} e^{x^b/2} e^{-x^2/2} = \\int_{-\\infty}^{\\infty} e^{(x^b-x^2)/2}$\n",
    "\n",
    "When $b \\geq 2$, as x increases the function just blows up to $\\infty$, which makes the integral diverge. Any value below 2 for b shrinks towards 0 as x approaches $-\\infty$ or $\\infty$. This shrinkage effect makes the integral converge since the function doesn't blow up at the extremes."
   ]
  },
  {
   "cell_type": "markdown",
   "metadata": {},
   "source": [
    "# 4.8\n",
    "\n",
    "Let X be a discrete random variable such that the support of X is 1,2,...,n, where n>2, and $P(X=x) = \\frac{2x}{n(n+1)}$.\n",
    "\n",
    "a. Verify that P(X=x) is a valid PMF.\n",
    "\n",
    "b. Find E(X) and Var(X).\n",
    "\n",
    "Hint: Feel free to use these facts: $\\sum_{k = 1}^n k = \\frac{n(n + 1)}{2}, \\sum_{k = 1}^n k^2 = \\frac{n(n + 1)(2n + 1)}{6}, \\sum_{k = 1}^n k^3 = \\Big(\\frac{n(n + 1)}{2}\\Big)^2$"
   ]
  },
  {
   "cell_type": "markdown",
   "metadata": {},
   "source": [
    "### 4.8 Analytical Solution\n",
    "\n",
    "(a) Once we factor out the constants from the summation, it’s easy to see this sums to 1 - making it a valid PMF.\n",
    "\n",
    "### $\\sum_{k = 1}^n \\frac{2k}{n(n + 1)} = \\frac{2}{n(n + 1)} \\sum_{k = 1}^n k = \\frac{2}{n(n + 1)}\\cdot \\frac{n(n + 1)}{2} = 1$  \n",
    "\n",
    "(b) The key here is to factor out the constants again and substitute with parts of the hint.  \n",
    "\n",
    "### $E(X) = \\sum_{x = 1}^n x^2 \\frac{2}{n(n + 1)} = \\frac{2}{n(n + 1)} \\sum_{k = 1}^x x^2 = \\frac{2}{n(n + 1)} \\cdot \\frac{n(n + 1)(2n + 1)}{6} = \\frac{2n + 1}{3}$  \n",
    "\n",
    "At this point, we already have half of what we need for the variance.  \n",
    "\n",
    "### $E(X^2) = \\sum_{k = 1}^n x^3 \\frac{2}{n(n + 1)} = \\frac{2}{n(n + 1)} \\sum_{k = 1}^n x^3 = \\frac{2}{n(n + 1)} \\cdot \\Big(\\frac{n(n + 1)}{2}\\Big)^2 = \\frac{n(n + 1)}{2}$  \n",
    "\n",
    "### $Var(X) = E(X^2) - (E(X))^2 = \\frac{n(n + 1)}{2} - \\Big(\\frac{2n + 1}{3}\\Big)^2$  "
   ]
  },
  {
   "cell_type": "code",
   "execution_count": 8,
   "metadata": {},
   "outputs": [
    {
     "data": {
      "image/png": "[encoded data removed]",
      "text/plain": [
       "<Figure size 432x288 with 1 Axes>"
      ]
     },
     "metadata": {},
     "output_type": "display_data"
    }
   ],
   "source": [
    "# (b)\n",
    "\n",
    "def draw_samp(n, size):\n",
    "    \n",
    "    nums = np.arange(1,n+1)\n",
    "    \n",
    "    ps = 2*nums/(n*(n+1))\n",
    "    \n",
    "    return np.random.choice(a = nums, size = size, replace = True, p = ps)\n",
    "\n",
    "# Look at ratio of Mean/Var to see if simulations converge to actual solution\n",
    "def samp_mean_d_var(x):\n",
    "    return np.mean(x)/np.var(x)\n",
    "\n",
    "# Analytical solution\n",
    "def analt_mean_d_var(n):\n",
    "    \n",
    "    mean = (2*n+1)/3\n",
    "    \n",
    "    var = (n*(n+1))/2 - ((2*n+1)/3)**2\n",
    "    \n",
    "    return mean/var\n",
    "\n",
    "\n",
    "#\n",
    "\n",
    "samp_mean_d_var(draw_samp(n = 12, size = 10000))\n",
    "\n",
    "#\n",
    "\n",
    "comp = pd.DataFrame({\n",
    "    'n': np.arange(2,22),\n",
    "    'Ratio_Sim': [samp_mean_d_var(draw_samp(n = i, size = 10000)) for i in range(2,22)],\n",
    "    'Ratio_Analt': [analt_mean_d_var(i) for i in range(2,22)]\n",
    "})\n",
    "\n",
    "#\n",
    "\n",
    "_ = plt.plot(comp['n'],\n",
    "             comp['Ratio_Analt'])\n",
    "\n",
    "_ = plt.plot(comp['n'],\n",
    "             comp['Ratio_Sim'], \n",
    "             'ro')\n",
    "\n",
    "#\n",
    "\n",
    "_ = plt.title('Ratio of Mean/Var\\nBlue = Actual || Red = Simulated')\n",
    "\n",
    "_ = plt.ylabel('Ratio Mean/Var')\n",
    "_ = plt.xlabel('n')"
   ]
  },
  {
   "cell_type": "markdown",
   "metadata": {},
   "source": [
    "# 4.9\n",
    "\n",
    "Imagine a job that pays 1 dollar after the first day, then 2 dollars after the second day, then 4 dollars after the third day, etc., such that the payments continue to double. However, at the end of each day, your boss flips a fair coin, and if it lands tails, you are fired (before you are paid). Let X be the total, lifetime earnins that you get from this job.\n",
    "\n",
    "a. Find E(X), as well as the PMF of X.\n",
    "\n",
    "b. Based on E(X), is this a job that you want? Does E(X) tell the whole story?"
   ]
  },
  {
   "cell_type": "markdown",
   "metadata": {},
   "source": [
    "### 4.9 Analytical Solution\n",
    "\n",
    "(a)  \n",
    "\n",
    "The probability of surviving n-days in this binary selection process is $\\frac{1}{2^{x+1}}$. For example, to survive only the first day we need to get heads on the first flip (p = 1/2) and a tails on the second flip (p = 1/2). Since both of these are independent, we multiply the probabilities to get 1/4. This multiplication logic can be stretched to any number of survival days. The support of this PMF is $[0,\\infty)$.\n",
    "\n",
    "The expected value is simply the sum of the PMF across the support, multiplied by every payout:  \n",
    "\n",
    "### $E(X) = 0 * 1/2 + \\sum_{x = 1}^\\infty \\frac{2^{x-1}}{2^{x+1}} = \\frac{1}{4} + \\frac{1}{4} + \\frac{1}{4} + ... = \\infty$\n",
    "\n",
    "(b)  \n",
    "\n",
    "The expected value doesn't tell the whole story. This isn't really a practical result because in real life, we work with finite sample sizes. Even in fixed sample sizes, the variance becomes huge. \n",
    "\n",
    "This problem is related to the [St. Petersburg Paradox](https://en.wikipedia.org/wiki/St._Petersburg_paradox)."
   ]
  },
  {
   "cell_type": "code",
   "execution_count": 9,
   "metadata": {},
   "outputs": [
    {
     "name": "stdout",
     "output_type": "stream",
     "text": [
      "Mean(n = 10): 2.60\n",
      "Var(n = 10): 407.30\n"
     ]
    }
   ],
   "source": [
    "# Simulates a payoff value in a fixed sampling process \n",
    "def payoff_sim(n):\n",
    "\n",
    "    flips = np.random.randint(low = 0, high = 2, size = n)\n",
    "    \n",
    "    # When we never see heads\n",
    "    if np.sum(flips) == 0:\n",
    "        return (2**(n-1))\n",
    "    \n",
    "    # When we strike out right away\n",
    "    if flips[0] == 1:\n",
    "        return 0\n",
    "    \n",
    "    return (2**(np.where(flips == 1)[0][0]-1))\n",
    "\n",
    "#\n",
    "\n",
    "print('Mean(n = 10): %.2f' % np.mean([payoff_sim(n = 10) for i in range(10000)]))\n",
    "print('Var(n = 10): %.2f' % np.var([payoff_sim(n = 10) for i in range(10000)]))"
   ]
  },
  {
   "cell_type": "markdown",
   "metadata": {},
   "source": [
    "# 4.10\n",
    "\n",
    "Let X∼Expo(λ) and Y=X+c for some constant c. Does Y have an Exponential distribution? Use intuition about the Exponential distribution to answer this question."
   ]
  },
  {
   "cell_type": "markdown",
   "metadata": {},
   "source": [
    "### 4.10 Analytical Solution\n",
    "\n",
    "Y does **not** have an Exponential distribution. When c is not zero, this breaks the traditional $[0,\\infty]$ support. When c is positive, it also erases the memorylessness property of the Exponential. If c = 9 and we've waited for 5 minutes, we know for a fact that we have to wait at least 4 more minutes for any probability of observing our event."
   ]
  },
  {
   "cell_type": "markdown",
   "metadata": {},
   "source": [
    "# 4.11\n",
    "\n",
    "Let X,Y be i.i.d. N(0,1). Find $E((X+Y)^2)$ using the fact that the linear combination of Normal random variables is a Normal random variable."
   ]
  },
  {
   "cell_type": "markdown",
   "metadata": {},
   "source": [
    "### 4.11 Analytical Solution\n",
    "\n",
    "We know that $X + Y$ becomes normally distributed, let's label it as $Z \\sim N(0,2)$. We're now looking for $E(Z)^2$, which is part of the formula for variance:  \n",
    "\n",
    "## $Var(Z) = E(Z^2) + E(Z)^2$  \n",
    "\n",
    "We already know the variance, so we can substitute and get our expected value:  \n",
    "\n",
    "## $2 = E(Z^2) + 0^2 \\rightarrow 2 = E(Z^2)$"
   ]
  },
  {
   "cell_type": "code",
   "execution_count": 10,
   "metadata": {},
   "outputs": [
    {
     "name": "stdout",
     "output_type": "stream",
     "text": [
      "Simulated Mean: 1.93\n"
     ]
    }
   ],
   "source": [
    "samps = 10000\n",
    "\n",
    "X = np.random.normal(loc = 0, scale = 1, size = samps)\n",
    "Y = np.random.normal(loc = 0, scale = 1, size = samps)\n",
    "\n",
    "print('Simulated Mean: %.2f' % np.mean((X+Y)**2))"
   ]
  },
  {
   "cell_type": "markdown",
   "metadata": {},
   "source": [
    "# 4.12\n",
    "\n",
    "a. You plan to try to log on to your email at some random (Uniform) time between 4:00 and 5:00. Independently, the interet will crash sometime between 4:00 and 5:00 and will be unavailable from the time that it crashes to 5:00. What is the probability that you are able to log on to your email (i.e., the computer is not crashed when you log on)?  \n",
    "  \n",
    "b. In this part, two ‘break points’ are randomly (Uniformly) and independently selected between 4:00 and 5:00. The internet will not be available between these two points, but will be available for the rest of the hour. What is the probability that the computer is not crashed when you log on?"
   ]
  },
  {
   "cell_type": "markdown",
   "metadata": {},
   "source": [
    "### 4.12 Analytical Solution\n",
    "\n",
    "(a)  \n",
    "\n",
    "The login time and crash time can both be represented by independent Uniform random variables. From 4.2.a we know that $P(U_{login} < U_{break}) = 1/2.$ That is, for two *continuous*  i.i.d. random variables X and Y, P(X > Y) = 1/2. We can also see that by symmetry we should expect to see as much 'down time' as 'up time'.\n",
    "\n",
    "(b)  \n",
    "\n",
    "We can imagine drawing a line segment and picking two points on it randomly. On average, this will cut the line segment into three pieces of equal size. The area between the two points, 1/3, is where the crash will occur. The area outside of this section, 2/3, is when we will be able to use the computer. "
   ]
  },
  {
   "cell_type": "code",
   "execution_count": 11,
   "metadata": {},
   "outputs": [
    {
     "name": "stdout",
     "output_type": "stream",
     "text": [
      "P(Login < Crash) = 0.50\n",
      "\n",
      "P(OK login) = 0.67\n"
     ]
    }
   ],
   "source": [
    "size = 10000\n",
    "\n",
    "# (a)\n",
    "\n",
    "logins = np.random.uniform(size = size)\n",
    "\n",
    "crashes = np.random.uniform(size = size)\n",
    "\n",
    "print('P(Login < Crash) = %.2f' % np.mean(logins < crashes))\n",
    "\n",
    "# (b)\n",
    "\n",
    "# Generated array of sorted [start,end] break times\n",
    "breaks = np.random.uniform(size = (size,2))\n",
    "\n",
    "breaks = np.sort(breaks, axis = 1)\n",
    "\n",
    "#\n",
    "\n",
    "logins = np.random.uniform(size = size)\n",
    "\n",
    "#\n",
    "# Below lower end of the crash period or above higher end\n",
    "print('\\nP(OK login) = %.2f' % np.mean((logins < breaks[:,0]) + (breaks[:,1] < logins)))"
   ]
  },
  {
   "cell_type": "markdown",
   "metadata": {},
   "source": [
    "# 4.13\n",
    "\n",
    "Imagine a single elimination tournament with $2^n$ teams, where n≥1. ‘Single elimination’ means that if you lose a game, you are eliminated. You can envision the tournament set-up in simple cases. When n=1, we have two teams that play each other for the championship. When n=2, we have four teams; they are split into pairs, and the winner of each pair meets in the championship. The tournament set-up continues to expand in this way as we add teams (see the March Madness tournament for an example where n=6).\n",
    "\n",
    "Imagine for this problem that every team is equally skilled (in real life, this is clearly not a reasonable assumption) such that any random team has equal probabilities of winning or losing against any other random team. Assume games are independent (also not a reasonable assumption in real life). Let X be the number of games won by the first team.\n",
    "\n",
    "a. Find E(X) using LoTUS.  \n",
    "\n",
    "b. Find E(X) using a symmetry argument.  "
   ]
  },
  {
   "cell_type": "markdown",
   "metadata": {},
   "source": [
    "### 4.13 Analytical Solution\n",
    "\n",
    "(a)  \n",
    "\n",
    "Let's pretend n = 4 and we care about the probability of winning exactly 3 rounds. That becomes P(Win 1st) x P(Win 2nd) x P(Win 3rd) x P(Lose 4th) = $1/{2^3}$. Generally speaking, the probability boils down to P(Winning n rounds) x P(Losing n+1th round). The only exception to this rule is when we're solving for the probability of winning all rounds, in this case there is no n+1th round. Here's the PMF:  \n",
    "\n",
    "## $P(X = x) = I(X = n) * \\frac{1}{2^n} + (1-I(X = n)) * \\frac{1}{2^{x+1}}$  \n",
    "\n",
    "I(X = n) is an indicator function that returns 1 if we're looking at the probability of winning all rounds and 0 otherwise. The support is [0, n]. Next, we can multiply the PMF by X and sum across the support to get the expected value:  \n",
    "\n",
    "## $E(X) = \\frac{n}{2^n} + \\sum_{x = 0}^{n-1} \\frac{x}{2^{x + 1}} = \\frac{1}{2^2} + \\frac{2}{2^3} + \\frac{3}{2^4} + ... + \\frac{n - 1}{2^n} + \\frac{n}{2^n}$  \n",
    "\n",
    "(b)  \n",
    "\n",
    "There's nothing in the problem description that would cause us to favor one team over another. Every team has an equal probability of winning. There are $2^n$ teams in total. For any n, there are only $2^n - 1$ games that can be played until the championship is won. Therefore:  \n",
    "\n",
    "### $E(X_1) + E(X_2) + ... + E(X_{2^n}) = 2^n - 1$\n",
    "\n",
    "### $E(X) = \\frac{\\text{Total Average Winnings}}{\\text{Number of Teams}} = \\frac{2^n - 1}{2^n}$  "
   ]
  },
  {
   "cell_type": "code",
   "execution_count": 12,
   "metadata": {},
   "outputs": [
    {
     "name": "stdout",
     "output_type": "stream",
     "text": [
      "Simulated mean when n = 4: 0.92\n",
      "Analytical mean when n = 4: 0.938\n"
     ]
    }
   ],
   "source": [
    "def sim_game(max_wins):\n",
    "    \n",
    "    res = 0\n",
    "    \n",
    "    while True:\n",
    "        \n",
    "        flip = np.random.binomial(n = 1, p = 0.5)\n",
    "        \n",
    "        if flip == 0:\n",
    "            break\n",
    "            \n",
    "        if res == max_wins:\n",
    "            break\n",
    "        \n",
    "        res += 1\n",
    "    \n",
    "    return res\n",
    "\n",
    "#\n",
    "\n",
    "sim_games = np.mean([sim_game(max_wins = 4) for i in range(10000)])\n",
    "\n",
    "print('Simulated mean when n = 4: %.2f' % sim_games)\n",
    "print('Analytical mean when n = 4: %.3f' % ((2**4-1)/(2**4)))"
   ]
  }
 ],
 "metadata": {
  "kernelspec": {
   "display_name": "Python 3",
   "language": "python",
   "name": "python3"
  },
  "language_info": {
   "codemirror_mode": {
    "name": "ipython",
    "version": 3
   },
   "file_extension": ".py",
   "mimetype": "text/x-python",
   "name": "python",
   "nbconvert_exporter": "python",
   "pygments_lexer": "ipython3",
   "version": "3.6.4"
  }
 },
 "nbformat": 4,
 "nbformat_minor": 2
}
