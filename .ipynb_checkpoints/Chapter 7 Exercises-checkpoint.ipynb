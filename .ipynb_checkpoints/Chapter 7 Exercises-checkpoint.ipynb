{
 "cells": [
  {
   "cell_type": "code",
   "execution_count": 1,
   "metadata": {},
   "outputs": [],
   "source": [
    "import math as m\n",
    "import numpy as np\n",
    "import random as rnd\n",
    "import re\n",
    "import itertools as it\n",
    "import pandas as pd\n",
    "import matplotlib as matplotlib\n",
    "import matplotlib.pyplot as plt\n",
    "from scipy.special import factorial2\n",
    "from scipy.special import factorial\n",
    "from scipy.special import binom\n",
    "import scipy.stats as sps\n",
    "import seaborn as sns\n",
    "%matplotlib inline"
   ]
  },
  {
   "cell_type": "markdown",
   "metadata": {},
   "source": [
    "# 7.1\n",
    "\n",
    "Let X∼Bern(p). Let $I_1$  be the indicator that X=1 and $I_0$ be the indicator that X=0. Find Cov($I_1$,$I_0$)."
   ]
  },
  {
   "cell_type": "code",
   "execution_count": 2,
   "metadata": {},
   "outputs": [
    {
     "name": "stdout",
     "output_type": "stream",
     "text": [
      "Simulated Covariance: -0.22\n",
      "Analytical Covariance: -0.22\n",
      "Correlation: -1\n"
     ]
    }
   ],
   "source": [
    "p = 1/3\n",
    "samps = 10000\n",
    "\n",
    "flips = np.random.binomial(n = 1, p = p, size = samps)\n",
    "\n",
    "print('Simulated Covariance: %.2f' % np.cov(m = flips, y = (1-flips))[0,1])\n",
    "\n",
    "print('Analytical Covariance: %.2f' % (p**2-p))\n",
    "\n",
    "print('Correlation: %.0f' % (np.corrcoef(flips,1-flips)[0,1]))"
   ]
  },
  {
   "cell_type": "markdown",
   "metadata": {},
   "source": [
    "### 7.1 Analytical Solution\n",
    "\n",
    "First, let's set up the covariance calculation.\n",
    "\n",
    "## $Cov(I_1,I_0) = E[I_1 I_0] - E[I_1]E[I_0]$  \n",
    "\n",
    "Next, let's focus on the first part. Since one of $I_1$ and $I_0$ must always be zero, a joint expectation over them must also evaluate to zero. \n",
    "\n",
    "## $E[I_1 I_0] = (1*0*p) + (0*1*(1-p)) = 0$  \n",
    "\n",
    "Finally, the right side is straightforward:  \n",
    "\n",
    "## $- E[I_1]E[I_0] = -(p * (1-p)) = p^2 - p = Cov(I_1,I_0)$  \n",
    "\n",
    "It’s important to note that the correlation, the normalized covariance, always evaluates to -1. The linear relationship between the two variables is perfectly negative. This is by construction."
   ]
  },
  {
   "cell_type": "markdown",
   "metadata": {},
   "source": [
    "# 7.2\n",
    "\n",
    "Let U∼Unif(0,1). Find Cov(U,1−U)."
   ]
  },
  {
   "cell_type": "code",
   "execution_count": 3,
   "metadata": {},
   "outputs": [
    {
     "data": {
      "text/plain": [
       "array([[ 0.08326574, -0.08326574],\n",
       "       [-0.08326574,  0.08326574]])"
      ]
     },
     "execution_count": 3,
     "metadata": {},
     "output_type": "execute_result"
    }
   ],
   "source": [
    "samps = 10000\n",
    "\n",
    "unif_obs = np.random.uniform(low = 0, high = 1, size = samps)\n",
    "\n",
    "np.cov(m = unif_obs, y = (1-unif_obs))"
   ]
  },
  {
   "cell_type": "markdown",
   "metadata": {},
   "source": [
    "### 7.2 Analytical Solution\n",
    "\n",
    "We can substitute our Uniform variables into $Cov(X,Y+Z) = Cov(X,Y) + Cov(X,Z)$:  \n",
    "\n",
    "## $Cov(U, 1 - U) = Cov(U, 1) - Cov(U, U)$  \n",
    "\n",
    "The covariance between a constant and a random variable is zero, since the constant doesn't vary. Then we're left with:  \n",
    "\n",
    "## $-Cov(U, U) = -Var(U) = -1/12$"
   ]
  },
  {
   "cell_type": "markdown",
   "metadata": {},
   "source": [
    "# 7.3\n",
    "\n",
    "Let Z∼N(0,1). Find $Cov(Z^2,Z^3)$."
   ]
  },
  {
   "cell_type": "code",
   "execution_count": 4,
   "metadata": {},
   "outputs": [
    {
     "name": "stdout",
     "output_type": "stream",
     "text": [
      "Simulated Covariance: 0.00\n"
     ]
    },
    {
     "data": {
      "image/png": "[encoded data removed]",
      "text/plain": [
       "<Figure size 432x288 with 1 Axes>"
      ]
     },
     "metadata": {},
     "output_type": "display_data"
    }
   ],
   "source": [
    "samps = 1000000\n",
    "\n",
    "norm = np.random.normal(size = samps)\n",
    "norm_sq = norm**2\n",
    "norm_cub = norm**3\n",
    "\n",
    "print('Simulated Covariance: %.2f' % (np.cov(m = norm_sq, y = norm_cub)[0,1]))\n",
    "\n",
    "_= sns.distplot(norm_cub, hist = False, kde_kws={'clip': (-3.0, 3.0)})\n",
    "_= sns.distplot(norm_sq, hist = False, kde_kws={'clip': (-3.0, 3.0)})\n",
    "_ = plt.title('Z cubed (blue) and Z squared (orange)')"
   ]
  }
 ],
 "metadata": {
  "kernelspec": {
   "display_name": "Python 3",
   "language": "python",
   "name": "python3"
  },
  "language_info": {
   "codemirror_mode": {
    "name": "ipython",
    "version": 3
   },
   "file_extension": ".py",
   "mimetype": "text/x-python",
   "name": "python",
   "nbconvert_exporter": "python",
   "pygments_lexer": "ipython3",
   "version": "3.6.4"
  }
 },
 "nbformat": 4,
 "nbformat_minor": 2
}
