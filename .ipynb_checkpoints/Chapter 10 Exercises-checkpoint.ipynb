{
 "cells": [
  {
   "cell_type": "code",
   "execution_count": 1,
   "metadata": {},
   "outputs": [],
   "source": [
    "import math as m\n",
    "import numpy as np\n",
    "import random as rnd\n",
    "import re\n",
    "import itertools as it\n",
    "import pandas as pd\n",
    "import matplotlib as matplotlib\n",
    "import matplotlib.pyplot as plt\n",
    "from scipy.special import factorial2\n",
    "from scipy.special import factorial\n",
    "from scipy.special import gamma\n",
    "from scipy.special import binom\n",
    "import scipy.stats as sps\n",
    "import seaborn as sns\n",
    "%matplotlib inline"
   ]
  },
  {
   "cell_type": "markdown",
   "metadata": {},
   "source": [
    "# 10.1\n",
    "\n",
    "You flip a fair, two-sided coin 100 times. Define a ‘run’ as a sequence of coin flips with the same value (heads or tails). for example, the sequence HTTHH has 3 runs: the first H, then the TT block, then the HH block.\n",
    "\n",
    "Let X be the number of runs we observe in n flips. We’ve discussed how to find E(X) using indicators. Now, approximate E(X) for large n by imagining this process as a Markov Chain."
   ]
  },
  {
   "cell_type": "markdown",
   "metadata": {},
   "source": [
    "### 10.1 Analytical Solution\n",
    "\n",
    "There's actually an alternative solution here that does not involve Markov chains. Let's first focus on the average size of a run. The probability of observing a single run of 'HHH' is $(1/2)^3$. More generally, observing a run of length x has probability of \n",
    "$(1/2)^x$. We know the shortest run length is 1 and the longest is unbounded from above at the limit.\n",
    "\n",
    "The PMF of the run length looks like:\n",
    "\n",
    "## $P(Y = y) = \\frac{1}{2}^y, \\sum_{y=1}^{\\infty} \\frac{1}{2}^y = 1$\n",
    "\n",
    "To get the average run length, we simply multiply by 'y' and get:\n",
    "\n",
    "## $E(Y) = \\sum_{y=1}^{\\infty} y(\\frac{1}{2}^y) = 2$\n",
    "\n",
    "If n = 5, we are *guaranteed* to see at least one run, there is no uncertainty about this. That means that the PMF and expectation above only apply to the (n-1) flips we are uncertain about. Since the average run length is 2 and there's only uncertainty about the last (n-1) flips, the average number of runs is (n-1)/2 + 1. As n becomes large, this is essentially n/2."
   ]
  },
  {
   "cell_type": "code",
   "execution_count": 2,
   "metadata": {},
   "outputs": [
    {
     "data": {
      "image/png": "[encoded data removed]",
      "text/plain": [
       "<Figure size 432x288 with 1 Axes>"
      ]
     },
     "metadata": {
      "needs_background": "light"
     },
     "output_type": "display_data"
    }
   ],
   "source": [
    "sims = 1000\n",
    "\n",
    "#\n",
    "\n",
    "def run_sim(n):\n",
    "\n",
    "    samp = np.random.choice(a = [0,1], replace = True, size = n)\n",
    "\n",
    "    runs = np.sum(np.ediff1d(samp) != 0) + 1\n",
    "    \n",
    "    return runs\n",
    "\n",
    "#\n",
    "\n",
    "def run_sims(n, sims):\n",
    "    \n",
    "    return np.mean([run_sim(n) for i in range(sims)])\n",
    "\n",
    "#\n",
    "\n",
    "\n",
    "\n",
    "probs = pd.DataFrame({\n",
    "    'n': np.arange(1,10),\n",
    "    'SampleMean': [run_sims(sims = sims, n = i) for i in range(1,10)],\n",
    "    'AnaltMean': [(i-1)/2 + 1 for i in range(1,10)]\n",
    "})\n",
    "\n",
    "\n",
    "_ = plt.plot(probs['n'],\n",
    "             probs['SampleMean'], \n",
    "             'ro')\n",
    "\n",
    "_ = plt.plot(probs['n'],\n",
    "            probs['AnaltMean'],\n",
    "            'go--',\n",
    "            linewidth = 2)\n",
    "\n",
    "_ = plt.ylabel('Mean')\n",
    "_ = plt.xlabel('Number of flips')\n",
    "\n",
    "_ = plt.title('Analytical and Simulated Mean Number of Runs\\nGreen: Analytical || Red: Estimated')"
   ]
  },
  {
   "cell_type": "markdown",
   "metadata": {},
   "source": [
    "# 10.2\n",
    "\n",
    "You are repeatedly rolling a fair, six-sided die. Let Xn be the cumulative sum of the rolls after n rolls (so, if we roll a 2 and then a 5, X1=2 and X2=7). Find the probability that Xn ever hits 7.\n",
    "\n",
    "Hint: You may leave your answer as a system of equations. You can quickly solve systems of equations in R with the command solve(a,b), where a is the matrix containing the coefficients of the system, and b is the vector giving the RHS of the system."
   ]
  },
  {
   "cell_type": "markdown",
   "metadata": {},
   "source": [
    "### 10.2 Analytical Solution\n",
    "\n",
    "There's a different approach that doesn't involve a system of equations or Markov chains, just lots of algebra. What we care about is the number of ways to sum the numbers 1 through 6, with repetition, to get 7. This is very close to the concept of the [partition](http://www.luschny.de/math/seq/PartitionsOf7.htm) of 7. The only partition not eligible is '7' since dice only go up to 6. That means there are 14 partitions of 7 under our scheme. Each partition is a valid set of dice rolls with an associated probability.\n",
    "\n",
    "For example, let's look at {1,1,2,3}. We can observe many permutations of this: {3,2,1,1} , {1,2,3,1}, ... To get the proper number of permutations we need to adjust out for the fact that certain digits are repeated. For this specific partition, that is $4!/2!$ since the '1' is repeated twice. The probability of observing every permutation is simply $(1/6)^4$.\n",
    "\n",
    "More generally, the full probability of observing a certain partition is:  \n",
    "\n",
    "## $P(partition) = (1/6)^{\\text{partition length}} * \\text{(partition length)!/(overcounting adjustment)}$\n",
    "\n",
    "Finally, the full probability becomes:  \n",
    "\n",
    "## $P(7) = \\sum_{p=1}^{14} P(partition_i)$\n",
    "\n",
    "Below is the full table of every partition and the associated probability.\n",
    "\n",
    "$\\begin{array}{rr} \\hline\n",
    "Row & Partition         & Prob Sequence            & Permutations & Prob      \\\\\n",
    "1   & \\{1,1,1,1,1,1,1\\} & (1/6)^7 & 1            & 0.00036\\% \\\\\n",
    "2   & \\{1,1,1,1,1,2\\}   & (1/6)^6 & 6!/5!        & 0.01286\\% \\\\\n",
    "3   & \\{1,1,1,1,3\\}     & (1/6)^5 & 5!/4!        & 0.06430\\% \\\\\n",
    "4   & \\{1,1,1,2,2\\}     & (1/6)^5 & 5!/(3!*2!)   & 0.12860\\% \\\\\n",
    "5   & \\{1,1,1,4\\}       & (1/6)^4 & 4!/3!        & 0.30864\\% \\\\\n",
    "6   & \\{1,1,2,3\\}       & (1/6)^4 & 4!/2!        & 0.92593\\% \\\\\n",
    "7   & \\{1,2,2,2\\}       & (1/6)^4 & 4!/3!        & 0.30864\\% \\\\\n",
    "8   & \\{1,1,5\\}         & (1/6)^3 & 3!/2!        & 1.38889\\% \\\\\n",
    "9   & \\{1,2,4\\}         & (1/6)^3 & 3!           & 2.77778\\% \\\\\n",
    "10  & \\{1,3,3\\}         & (1/6)^3 & 3!/2!        & 1.38889\\% \\\\\n",
    "11  & \\{2,2,3\\}         & (1/6)^3 & 3!/2!        & 1.38889\\% \\\\\n",
    "12  & \\{1,6\\}           & (1/6)^2 & 2            & 5.55556\\% \\\\\n",
    "13  & \\{2,5\\}           & (1/6)^2 & 2            & 5.55556\\% \\\\\n",
    "14  & \\{3,4\\}           & (1/6)^2 & 2            & 5.55556\\% \\\\\n",
    "    &                   &                          & Total        & 25.36\\%  \n",
    "\\end{array}$\n"
   ]
  },
  {
   "cell_type": "code",
   "execution_count": 3,
   "metadata": {},
   "outputs": [
    {
     "name": "stdout",
     "output_type": "stream",
     "text": [
      "Simulated mean of 0.2539\n"
     ]
    }
   ],
   "source": [
    "sims = 100000\n",
    "\n",
    "sim_mean = np.mean([np.any(np.cumsum(np.random.choice([1,2,3,4,5,6], replace = True, size = 7)) == 7) for i in range(sims)])\n",
    "\n",
    "print('Simulated mean of %.4f' % sim_mean)"
   ]
  },
  {
   "cell_type": "markdown",
   "metadata": {},
   "source": [
    "# 10.3\n",
    "\n",
    "Let X be the Markov Chain with transition matrix such that $q_{i, i + 1} = p$, $q_{i, i} = 1 - p$, and $q_{x + 1, x + 1} = 1$. where x: {0,1,2,3,4,5}.\n",
    "\n",
    "Let this chain start at State 0 (the first state), and let T be the time it takes, in discrete steps, until absorption (i.e., get to State 5). Find the PMF of T."
   ]
  },
  {
   "cell_type": "markdown",
   "metadata": {},
   "source": [
    "### 10.3 Analytical Solution\n",
    "\n",
    "We're essentially looking at a binary process and waiting until a certain number of successes. This is the definition of the Negative Binomial distribution. We just need to tweak the logic so that we count the total number of flips rather than just the failures. We know there must be 5 successes, so then:\n",
    "\n",
    "## $P(T - 5 = x) = {5 + x - 1 \\choose 5 - 1} p^5 q^x$\n",
    "\n",
    "## $P(T = t) = {t - 1 \\choose 5 - 1} p^5 q^{t - 5}$"
   ]
  },
  {
   "cell_type": "code",
   "execution_count": 4,
   "metadata": {},
   "outputs": [
    {
     "data": {
      "image/png": "[encoded data removed]",
      "text/plain": [
       "<Figure size 432x288 with 1 Axes>"
      ]
     },
     "metadata": {
      "needs_background": "light"
     },
     "output_type": "display_data"
    }
   ],
   "source": [
    "sims = 10000\n",
    "p = 0.3\n",
    "n = 6\n",
    "\n",
    "# Setting up transition matrix\n",
    "Q = np.zeros((n,n))\n",
    "\n",
    "np.fill_diagonal(Q, 1-p)\n",
    "\n",
    "Q[n-1,n-1] = 1\n",
    "\n",
    "Q[np.arange(0,n-1),np.arange(1,n)] = p\n",
    "\n",
    "#\n",
    "\n",
    "def sim_run(n,Q):\n",
    "\n",
    "    i = 0\n",
    "    state = [0]\n",
    "    \n",
    "    while True:\n",
    "    \n",
    "        state = np.random.choice(np.arange(0,n), size = 1, p = Q[state[0],:])\n",
    "\n",
    "        i += 1\n",
    "        \n",
    "        if state == n-1:\n",
    "            break\n",
    "    return i\n",
    "\n",
    "#\n",
    "\n",
    "sim_runs_res = [sim_run(n,Q) for i in range(sims)]\n",
    "\n",
    "\n",
    "_ = plt.hist(sim_runs_res, \n",
    "         bins = np.arange(np.min(sim_runs_res),np.max(sim_runs_res)+1,1), \n",
    "         color = 'red', alpha = 0.5, density = True, align='left')\n",
    "\n",
    "_ = plt.plot(np.arange(np.max(sim_runs_res)+1) + 5,\n",
    "             [sps.nbinom.pmf(k = i, n = n-1, p = p) for i in range(np.max(sim_runs_res)+1)], \n",
    "             'go')\n",
    "\n",
    "plt.title(\"Time to absorption\\nRed = simulated | Green = analytical\")\n",
    "plt.show()"
   ]
  },
  {
   "cell_type": "markdown",
   "metadata": {},
   "source": [
    "# 10.4 + 10.5\n",
    "\n",
    "Consider a Random Walk on an Undirected Network with 5 states, each state is connected to its adjacent two states.\n",
    "\n",
    "The arrows are not labeled because each arrow has probability 1/2; that is, there is an equal probability of going clockwise or counterclockwise at every step. Let T be the number of steps it takes to return to State 1. \n",
    "\n",
    "Find E(T) without using facts about the stationary distribution. (10.4)  \n",
    "Find E(T) by using facts about the stationary distribution. (10.5)\n",
    "\n",
    "Hint: You may leave your answer as a system of equations. You can quickly solve systems of equations in R with the command solve(a,b), where a is the matrix containing the coefficients of the system, and b is the vector giving the RHS of the system."
   ]
  },
  {
   "cell_type": "markdown",
   "metadata": {},
   "source": [
    "### 10.4 + 10.5 Analytical Solution\n",
    "\n",
    "Let $T_i$ be the expected number of steps needed to return to State 1 if we start at Stat i. We are interested in $T_1$. We can write:\n",
    "\n",
    "### $T_1 = 1 + (T_2 + T_5)/2$\n",
    "\n",
    "### $T_2 = 1 + T_3/2$\n",
    "\n",
    "### $T_3 = 1 + (T_4 + T_2)/2$\n",
    "\n",
    "### $T_4 = 1 + (T_5 + T_3)/2$\n",
    "\n",
    "### $T_5 = 1 + T_4/2$\n",
    "\n",
    "We only care about the $T_1$ solution from the system of equations. This becomes:\n",
    "\n",
    "$\\begin{array}{rr2} \\hline\n",
    "T_1 & T_2 & T_3 & T_4 & T_5 \\\\\n",
    "1 & -1/2 & 0 & 0 & -1/2 \\\\\n",
    "0 & 1 & -1/2 & 0 & 0 \\\\\n",
    "0 & -1/2 & 1 & -1/2 & 0 \\\\\n",
    "0 & 0 & -1/2 & 1 & -1/2 \\\\\n",
    "0 & 0 & 0 & -1/2 & 1\n",
    "\\end{array}$\n",
    "\n",
    "We end with Ab = **1** and we solve for b numerically. The first element ends up being 5, which is $T_1$.\n",
    "\n",
    "Also, the return time to State i is the reciprocal of the ith entry in the stationary distribution. Since the stationary distribution must be symmetric this is 1/(1/5) = 5."
   ]
  },
  {
   "cell_type": "code",
   "execution_count": 5,
   "metadata": {},
   "outputs": [
    {
     "data": {
      "text/plain": [
       "array([5., 4., 6., 6., 4.])"
      ]
     },
     "execution_count": 5,
     "metadata": {},
     "output_type": "execute_result"
    }
   ],
   "source": [
    "# Analytical solution\n",
    "A = np.array([\n",
    "  [1, -1/2, 0, 0, -1/2],\n",
    "  [0, 1, -1/2, 0, 0],\n",
    "  [0, -1/2, 1, -1/2, 0],\n",
    "  [0, 0, -1/2, 1, -1/2],\n",
    "  [0, 0, 0, -1/2, 1]\n",
    "])\n",
    "\n",
    "c = np.ones(5)\n",
    "\n",
    "np.dot(np.linalg.inv(A),c)"
   ]
  },
  {
   "cell_type": "code",
   "execution_count": 6,
   "metadata": {},
   "outputs": [
    {
     "data": {
      "image/png": "[encoded data removed]",
      "text/plain": [
       "<Figure size 432x288 with 1 Axes>"
      ]
     },
     "metadata": {
      "needs_background": "light"
     },
     "output_type": "display_data"
    }
   ],
   "source": [
    "sims = 10000\n",
    "\n",
    "def run_sim():\n",
    "\n",
    "    x = 0\n",
    "    i = 0\n",
    "    \n",
    "    while True:\n",
    "        i += 1\n",
    "\n",
    "        x += np.random.choice([-1,1])\n",
    "\n",
    "        x = x % 5\n",
    "\n",
    "        if x == 0:\n",
    "            break\n",
    "        \n",
    "    return i\n",
    "\n",
    "#\n",
    "\n",
    "sim_res = [run_sim() for i in range(sims)]\n",
    "\n",
    "_ = plt.hist(sim_res, \n",
    "         bins = np.arange(np.min(sim_res),np.max(sim_res)+1,1), \n",
    "         color = 'red', alpha = 0.5, density = True, align='left')\n",
    "\n",
    "plt.title(\"Simulated time to return to state 0\\nSim mean: %.2f\" % np.mean(sim_res))\n",
    "plt.show()"
   ]
  },
  {
   "cell_type": "markdown",
   "metadata": {},
   "source": [
    "# 10.6\n",
    "\n",
    "Let X∼Pois(λ). Imagine a Markov Chain with X+1 states and transition matrix Q such that $q_{i,i+1}=p$ and $q_{i,i}=1−p$ for i=0,1,...,x and $q_{x+1,x+1}=1$. Let $M_t$ be the value of the chain (the current state) at time t, and let $M_0=0$ (start at 0). Find the PMF of $M_X$."
   ]
  },
  {
   "cell_type": "markdown",
   "metadata": {},
   "source": [
    "### 10.6 Analytical Solution\n",
    "\n",
    "The problem asks for the distribution of the value of the chain (the current state) for a given time t. That is: PMF(lamb, p, t, pos). The fact that there is an absorption state complicates this calculation. To get the total probability of any position at time t we need to account for two sources of uncertainty: the Poisson probability that defines Q and the probability of observing s transitions.\n",
    "\n",
    "The Poisson PMF is easy to calculate. The probability of s transitions is a bit trickier. This is not exactly a Binomial process since t (the time period) can be greater than the number of states. Here's a practical example:  \n",
    "\n",
    "p = 0.7  \n",
    "x = 3 (determines number of states, Poisson)  \n",
    "t = 5 (input into PMF we want)  \n",
    " \n",
    "Since there are 5 time steps, this is effectively like flipping a coin 5 times. However, we must keep in mind that since there are only 3 states, anything beyond the third success in the flipping process will remain at the third state. That is, 3 is the absorbing state.\n",
    "\n",
    "P(state = 0 at time 5) = (1-0.7)^5 = 0.00243  \n",
    "P(state = 1 at time 5) = (0.7)(1-0.7)^4 = 0.00567  \n",
    "P(state = 2 at time 5) = (0.7)^2(1-0.7)^3 = 0.01323  \n",
    "P(state = 3 at time 5) = 1 - (0.00243 + 0.00567 + 0.01323) = 0.97867  \n",
    "\n",
    "In other words, we need to threshold the Binomial distribution if the number of time steps is greater than the number of states. This must be accounted for when computing the joint probability over the Poisson x ThreshBinomial PMF interaction. The analytical solution is implemented below in code."
   ]
  },
  {
   "cell_type": "code",
   "execution_count": 7,
   "metadata": {},
   "outputs": [
    {
     "name": "stdout",
     "output_type": "stream",
     "text": [
      "x: 4\n",
      "[[0.1 0.9 0.  0.  0. ]\n",
      " [0.  0.1 0.9 0.  0. ]\n",
      " [0.  0.  0.1 0.9 0. ]\n",
      " [0.  0.  0.  0.1 0.9]\n",
      " [0.  0.  0.  0.  1. ]]\n",
      "time 1 : pos 1\n",
      "time 2 : pos 2\n",
      "time 3 : pos 3\n",
      "time 4 : pos 3\n"
     ]
    },
    {
     "data": {
      "text/plain": [
       "3"
      ]
     },
     "execution_count": 7,
     "metadata": {},
     "output_type": "execute_result"
    }
   ],
   "source": [
    "sims = 10000\n",
    "\n",
    "#\n",
    "\n",
    "def sim_run(p,lamb,t,debug=False):\n",
    "\n",
    "    # Setting up transition matrix\n",
    "    x = np.random.poisson(lam = lamb, size = 1)[0]\n",
    "\n",
    "    Q = np.zeros((x+1,x+1))\n",
    "\n",
    "    np.fill_diagonal(Q, 1-p)\n",
    "\n",
    "    Q[x,x] = 1\n",
    "\n",
    "    Q[np.arange(0,x),np.arange(1,x+1)] = p\n",
    "    \n",
    "    if debug == True:\n",
    "        print('x: %s' % (x))\n",
    "        print(Q)\n",
    "    \n",
    "    # Iterate over t steps\n",
    "    state = [0]\n",
    "    \n",
    "    for i in range(1,t+1):\n",
    "    \n",
    "        state = np.random.choice(np.arange(0,x+1), size = 1, p = Q[state[0],:])\n",
    "\n",
    "        if debug == True:\n",
    "            print('time %s : pos %s' % (i,state[0]))\n",
    "        \n",
    "        # Break when reaching absorption\n",
    "        if state == x+1:\n",
    "            break\n",
    "            \n",
    "    return state[0]\n",
    "\n",
    "sim_run(p = 0.9, lamb = 7, t = 4, debug = True)"
   ]
  },
  {
   "cell_type": "code",
   "execution_count": 8,
   "metadata": {},
   "outputs": [],
   "source": [
    "def analt_sol(lamb, p, t):\n",
    "\n",
    "    prob_acc = np.zeros(shape = t+1)\n",
    "\n",
    "    for x in range((5*lamb)+1):\n",
    "\n",
    "        pois_prob = sps.poisson.pmf(k = x, mu = lamb)\n",
    "\n",
    "        for s in range(t+1):\n",
    "\n",
    "            if s < x:\n",
    "                # print('QSize %s : Pos %s : Prob %s' % (x, s, sps.binom.pmf(k = s, n = t, p = p)))\n",
    "                prob_acc[s] += pois_prob * sps.binom.pmf(k = s, n = t, p = p)\n",
    "\n",
    "            if s == x:\n",
    "                # print('QSize %s : Pos %s : Prob %s | tail' % (x, s, 1-sps.binom.cdf(k = x-1, n = t, p = p)))\n",
    "                prob_acc[x] += pois_prob * (1-sps.binom.cdf(k = x-1, n = t, p = p))\n",
    "                \n",
    "    return prob_acc"
   ]
  },
  {
   "cell_type": "code",
   "execution_count": 9,
   "metadata": {},
   "outputs": [
    {
     "data": {
      "image/png": "[encoded data removed]",
      "text/plain": [
       "<Figure size 432x288 with 1 Axes>"
      ]
     },
     "metadata": {
      "needs_background": "light"
     },
     "output_type": "display_data"
    }
   ],
   "source": [
    "p = 0.5\n",
    "lamb = 3\n",
    "t = 10\n",
    "\n",
    "\n",
    "sim_dist = [sim_run(p = p, lamb = lamb, t = t) for i in range(sims)]\n",
    "\n",
    "_ = plt.hist(sim_dist, \n",
    "         bins = np.arange(np.min(sim_dist),np.max(sim_dist)+2,1), \n",
    "         color = 'red', alpha = 0.5, density = True, align='left')\n",
    "\n",
    "plt.title(\"Simulated distribution for p = %s, lamb = %s, t = %s\" % (p,lamb,t))\n",
    "\n",
    "_ = plt.plot(np.arange(analt_sol(p = p, lamb = lamb, t = t).size),\n",
    "             analt_sol(p = p, lamb = lamb, t = t), \n",
    "             'go')\n",
    "\n",
    "plt.show()"
   ]
  },
  {
   "cell_type": "markdown",
   "metadata": {},
   "source": [
    "# 10.7\n",
    "\n",
    "Consider this Markov Chain, where a and b are valid probabilities.\n",
    "\n",
    "$\n",
    "\\begin{array}{lll}\n",
    "0 & a & 1-a \\\\\n",
    "b & 0 & 1-b \\\\\n",
    "0 & 0 & 1\n",
    "\\end{array}\n",
    "$\n",
    "\n",
    "Let T be the time of absorption (time of arrival at State 3). Imagine that we start at State 1.\n",
    "\n",
    "a. If a=b=1/2, find E(T).  \n",
    "b. If a≠b, find E(T)."
   ]
  },
  {
   "cell_type": "markdown",
   "metadata": {},
   "source": [
    "### 10.7 Analytical Solution\n",
    "\n",
    "Similarly to problem 10.4, we can set this up as a system of equations:\n",
    "\n",
    "### $T_1 = (1-a)1 + a(T_2 + 1), 1 = T_1 - aT_2$\n",
    "### $T_2 = (1-b)1 + b(T_1 + 1), 1 = -bT_1 + T_2$\n",
    "\n",
    "If we start at state one we either:  \n",
    "* With probability (1-a), take one step to get to state 3\n",
    "* With probability a, take one step to get to state 2\n",
    "\n",
    "We can mirror this logic for state 2. We can then solve the system of equations either manually or computationally. We end up with:  \n",
    "\n",
    "## $T_1 = \\frac{1 + a}{1 - ab}$"
   ]
  },
  {
   "cell_type": "code",
   "execution_count": 10,
   "metadata": {},
   "outputs": [],
   "source": [
    "def sim_run(n,a,b):\n",
    "\n",
    "    Q = np.array([\n",
    "      [0, a, 1-a],\n",
    "      [b, 0, 1-b],\n",
    "      [0, 0, 1]\n",
    "    ])\n",
    "    \n",
    "    i = 0\n",
    "    state = [0]\n",
    "    \n",
    "    while True:\n",
    "    \n",
    "        state = np.random.choice(np.arange(0,n), size = 1, p = Q[state[0],:])\n",
    "\n",
    "        # print(state)\n",
    "        \n",
    "        i += 1\n",
    "        \n",
    "        if state == n-1:\n",
    "            break\n",
    "    return i"
   ]
  },
  {
   "cell_type": "code",
   "execution_count": 11,
   "metadata": {},
   "outputs": [
    {
     "name": "stdout",
     "output_type": "stream",
     "text": [
      "System of eq sol: 1.47 1.42\n",
      "Algebra sol: 1.47\n",
      "Simulated sol: 1.46\n"
     ]
    }
   ],
   "source": [
    "a = 1/3\n",
    "b = 2/7\n",
    "\n",
    "# Analytical solution\n",
    "A = np.array([\n",
    "  [1, -a],\n",
    "  [-b, 1]\n",
    "])\n",
    "\n",
    "c = np.array([1,1])\n",
    "\n",
    "analt_sol = np.dot(np.linalg.inv(A),c)\n",
    "\n",
    "print('System of eq sol: %.2f %.2f' % (analt_sol[0],analt_sol[1]))\n",
    "print('Algebra sol: %.2f' % ((1+a)/(1-a*b)))\n",
    "print('Simulated sol: %.2f' % (np.mean([sim_run(n = 3, a = 1/3, b = 2/7) for i in range(10000)])))"
   ]
  },
  {
   "cell_type": "markdown",
   "metadata": {},
   "source": [
    "# 10.8\n",
    "\n",
    "Are the following process, Xt, Markovian? That is, do they satisfy the Markov property?\n",
    "\n",
    "a. Imagine a “branching process” with offspring distribution Pois(λ), where λ is known. That is, at generation 0, there is 1 individual who has Pois(λ) offspring in his lifetime, and each of his descendants independently has Pois(λ) offspring. Let $X_t$ be the size of the $t^{th}$ generation.\n",
    "\n",
    "b. You repeatedly roll a fair die. Let $X_t$ be the value of the $t^{th}$ roll.\n",
    "\n",
    "c. You repeatedly roll a fair die. Let $X_t$ be the mean of roll 1, roll 2, up to roll t−1.\n",
    "\n",
    "d. Let $X_t=X_{t−1}+ϵ_t$ where $X_0=0$ and $ϵ_i ∼ N(0,σ^2)$, where $σ^2$ is known.\n",
    "\n",
    "e. Same as part d., but $σ^2$ is unknown."
   ]
  },
  {
   "cell_type": "markdown",
   "metadata": {},
   "source": [
    "### 10.8 Analytical Solution\n",
    "\n",
    "a. The number of offspring only depends on the last generations' size. This is Markovian.  \n",
    "\n",
    "b. Since the rolls are presumably independently and indentically distributed, this is not Markovian. Getting a 3 in the last roll has no impact on the next roll.  \n",
    "\n",
    "c. Since we know the running sum of the rolls, we can just update the sum with the latest observation. This is Markovian since only the latest running sum is needed. We just normalize the sum by t to get the mean.\n",
    "\n",
    "d) This is Markovian since $X_{t-1}$ impacts $X_t$ and the noise is iid.\n",
    "\n",
    "e) Since there is uncertainty about the noise, we can use past observations to build a distribution around the unknown variance. Looking back further gives us a better estimate around the variance and hence the next observation. This violates the Markov property."
   ]
  },
  {
   "cell_type": "markdown",
   "metadata": {},
   "source": [
    "# 10.9\n",
    "\n",
    "Cameron is performing a simple, symmetric random walk on the integers; that is, at every integer, he either goes up 1 integer (i.e., 5 to 6) or down 1 integer (i.e., 1 to 0). Let $Y_t$ be his location at time t. He starts at 0 at time 1, so $Y_1=0$.\n",
    "\n",
    "a. Is $Y_t$ a Markovian process? That is, does it have the Markov property?\n",
    "\n",
    "b. Find $P(Y_{2t+1} > 0)$. You may leave your answer as a sum."
   ]
  },
  {
   "cell_type": "markdown",
   "metadata": {},
   "source": [
    "### 10.9 Analytical Solution\n",
    "\n",
    "This is definitely a Markov process. Knowing the previous position is all that's needed to take a guess at the next position. If we're at 4, we can either go to 3 or 5 and it doesn't matter how we got to 4.\n",
    "\n",
    "Since we know that $Y_1=0$, of the ${2t+1}$ trials, we only have $t$ random samples. The process of sampling up/down moves and summing them up resembles the Binomial distribution. Since we now have -1/1 rather than 0/1, this yields us just a shifted Binomial. \n",
    "\n",
    "For example, a binomial with n = 4 has support {0,1,2,3.4}. This becomes t = 4 with {-2,-1,0,1,2}. Since we know that p=0.5, this gives us a symmetrical probability mass around 0. Half of t's mass onwards gives us 50% of the cumulative probability. However, getting t up moves lands us at zero. We need to get rid of this effect. This shortcut is identical to getting the cumulative density from t+1 to 2t:  \n",
    "\n",
    "## $P(Y_{2t+1} > 0) = \\frac{1}{2} - \\frac{1}{2} * \\binom{2t}{t} * \\frac{1}{2}^{2t} = \\sum_{x = t + 1}^{2t} {2t \\choose x} \\frac{1}{2^{2t}}$"
   ]
  },
  {
   "cell_type": "code",
   "execution_count": 12,
   "metadata": {},
   "outputs": [
    {
     "name": "stdout",
     "output_type": "stream",
     "text": [
      "Simulated mean: 0.4076\n",
      "Analytical mean: 0.4119\n"
     ]
    }
   ],
   "source": [
    "sims = 10000\n",
    "\n",
    "t = 10\n",
    "\n",
    "print('Simulated mean: %.4f' % \n",
    "         (np.mean([np.sum(np.random.choice([-1,1], replace = True, size = 2*t)) > 0 for i in range(sims)]))\n",
    "     )\n",
    "\n",
    "print('Analytical mean: %.4f' % \n",
    "         (0.5 - 1/2*sps.binom.pmf(k = t, n = 2*t, p = 0.5))\n",
    "     )"
   ]
  },
  {
   "cell_type": "markdown",
   "metadata": {},
   "source": [
    "# 10.10\n",
    "\n",
    "Cameron is performing a simple, symmetric random walk on the integers; that is, at every integer, he either goes up 1 integer (i.e., 5 to 6) or down 1 integer (i.e., 1 to 0). Let $Y_t$ be his location at time t. He starts at 0 at time 0, so $Y_0=0$.\n",
    "\n",
    "Find $P(Y_{2t}<0 ∩ max(Y_1,Y_2,...,Y_{2t})\\geq3)$, i.e. the probability that the path hits 3 and ends below 0. You may leave your answer as a sum.\n",
    "\n",
    "Hint: the ‘reflection principle’, which applies to this random walk, states that reflecting a path about a horizontal line (i.e., mimicking a path up until some time t, and then reflecting a path for the rest of the time interval) creates a path that has the same probability as the original path."
   ]
  },
  {
   "cell_type": "markdown",
   "metadata": {},
   "source": [
    "### 10.10 Analytical Solution\n",
    "\n",
    "Any path that ends above 6 must have the same probability as a path that ends below zero. This is by the reflection principle, since we can reflect at the point where it hits 3. So we only care about the probability that we have net 6 successes.\n",
    "\n",
    "We can consider X as the number of ‘up moves’ in the 2t steps. We can then say that $P(Y_{2t} > 6) = P(X > t+3)$, since if we see more than t+3 up moves, we will have more than 6 up moves more than down moves, which means we will end above 6. We know that X∼Bin(2t,1/2), so we can find this value by summing the PMF of a Binomial:\n",
    "\n",
    "## $P(X > t + 3) = \\sum_{x = t + 4}^{2t} {2t \\choose x} \\frac{1}{2^{2t}}$"
   ]
  },
  {
   "cell_type": "code",
   "execution_count": 13,
   "metadata": {},
   "outputs": [
    {
     "name": "stdout",
     "output_type": "stream",
     "text": [
      "Simulated solution: 0.1637\n",
      "Analytical solution: 0.1611\n"
     ]
    }
   ],
   "source": [
    "sims = 10000\n",
    "t = 25\n",
    "\n",
    "\n",
    "def run_sim(t):\n",
    "    \n",
    "    roll_sum = np.cumsum(np.random.choice([-1,1], replace = True, size = 2*t))\n",
    "    \n",
    "    if max(roll_sum) >= 3 and roll_sum[2*t-1] < 0:\n",
    "        return 1\n",
    "    \n",
    "    return 0\n",
    "\n",
    "#\n",
    "\n",
    "print('Simulated solution: %.4f' % \n",
    "         np.mean([run_sim(t = t) for i in range(sims)])\n",
    "     )\n",
    "\n",
    "print('Analytical solution: %.4f' % \n",
    "         (1 - sps.binom.cdf(k = t + 3, n = 2*t, p = 1/2))\n",
    "     )"
   ]
  },
  {
   "cell_type": "markdown",
   "metadata": {},
   "source": [
    "# 10.11\n",
    "\n",
    "A particle is traveling randomly around the vertices of a square. If can only move across vertices connected by edges in one step (i.e., from the bottom left, it can travel to the top left or bottom right, but not the top right). If the particle starts in the top left vertex, what is the probability that it visits the bottom right vertex before it visits the bottom left vertex?"
   ]
  },
  {
   "cell_type": "markdown",
   "metadata": {},
   "source": [
    "### 10.11 Analytical Solution\n",
    "\n",
    "This is the Gambler’s ruin problem with i=1 and N=3. This makes the closest target, the bottom left vertex, have a probability of 2/3. Since probabilities sum to 1, this means that the bottom right vertex has a probability of 1/3."
   ]
  },
  {
   "cell_type": "code",
   "execution_count": 14,
   "metadata": {},
   "outputs": [
    {
     "name": "stdout",
     "output_type": "stream",
     "text": [
      "Simulated probability: 0.3316\n"
     ]
    }
   ],
   "source": [
    "sims = 10000\n",
    "\n",
    "\n",
    "def run_sim():\n",
    "\n",
    "    # Start at top left\n",
    "    p = 0\n",
    "    \n",
    "    # Square is [0,1,2,3] clockwise\n",
    "    while True:\n",
    "\n",
    "        p += np.random.choice([-1,1])\n",
    "\n",
    "        p = p % 4\n",
    "\n",
    "        if p == 2:\n",
    "            break\n",
    "        if p == 3:\n",
    "            break\n",
    "\n",
    "    return p\n",
    "\n",
    "#\n",
    "\n",
    "all_sims = [run_sim() for i in range(sims)]\n",
    "\n",
    "print('Simulated probability: %.4f' % (sum(1 for i in all_sims if i == 2)/sims))"
   ]
  }
 ],
 "metadata": {
  "kernelspec": {
   "display_name": "Python 3",
   "language": "python",
   "name": "python3"
  },
  "language_info": {
   "codemirror_mode": {
    "name": "ipython",
    "version": 3
   },
   "file_extension": ".py",
   "mimetype": "text/x-python",
   "name": "python",
   "nbconvert_exporter": "python",
   "pygments_lexer": "ipython3",
   "version": "3.7.2"
  }
 },
 "nbformat": 4,
 "nbformat_minor": 2
}
